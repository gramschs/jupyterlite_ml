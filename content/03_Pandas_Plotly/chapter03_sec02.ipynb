{
 "cells": [
  {
   "cell_type": "markdown",
   "id": "a2c0782e",
   "metadata": {},
   "source": [
    "# 3.2 Statistik mit Pandas\n",
    "\n",
    "Pandas dient nicht nur dazu, Daten zu sammeln, sondern ermöglicht auch\n",
    "statistische Analysen. Die deskriptive Statistik hat zum Ziel, Daten durch\n",
    "einfache Kennzahlen und Diagramme zu beschreiben. In diesem Kapitel geht es\n",
    "darum, die wichtigsten statistischen Kennzahlen mit Pandas zu ermitteln und zu\n",
    "interpretieren.\n",
    "\n",
    "## Lernziele\n",
    "\n",
    "* Sie können sich mit **.describe()** eine Übersicht über statistische Kennzahlen\n",
    "  verschaffen.\n",
    "* Sie wissen, wie Sie die Anzahl der gültigen Einträge mit **.count()** ermitteln.\n",
    "* Sie kennen die statistischen Kennzahlen Mittelwert und Standardabweichung und\n",
    "  wissen, wie diese mit **.mean()** und **.std()** berechnet werden.\n",
    "* Sie können das Minimum und das Maximum mit **.min()** und **.max()** bestimmen.\n",
    "* Sie wissen, wie ein Quantil interpretiert wird und wie es mit **.quantile()**\n",
    "  berechnet wird.\n",
    "\n",
    "## Schnelle Übersicht mit .describe()\n",
    "\n",
    "Die Methode `.describe()` aus dem Pandas-Modul liefert eine schnelle Übersicht\n",
    "über viele statistische Kennzahlen. Vor allem, wenn neue Daten geladen werden,\n",
    "sollte diese Methode direkt am Anfang angewendet werden. Wir bleiben bei unserem\n",
    "Beispiel mit den zehn Autos und deren Verkaufspreisen."
   ]
  },
  {
   "cell_type": "code",
   "execution_count": null,
   "id": "13c8b533",
   "metadata": {},
   "outputs": [],
   "source": [
    "# Import des Pandas-Moduls \n",
    "import pandas as pd\n",
    "\n",
    "# Erzeugung der Daten als Series-Objekt\n",
    "preisliste = [1999, 35990, 17850, 46830, 27443, 14240, 19950, 15950, 21990, 12450]\n",
    "autos = ['Audi Nr. 1', 'Audi Nr. 2', 'Audi Nr. 3', 'BMW Nr. 1', 'BMW Nr. 2', 'Citroen Nr. 1', 'Citroen Nr. 2', 'Citroen Nr. 3', 'Citroen Nr. 4', 'Citroen Nr. 5']\n",
    "preise = pd.Series(preisliste, index = autos)"
   ]
  },
  {
   "cell_type": "markdown",
   "id": "8fc83a07",
   "metadata": {},
   "source": [
    "Die Anwendung der `.describe()`-Methode liefert folgende Ausgabe:"
   ]
  },
  {
   "cell_type": "code",
   "execution_count": null,
   "id": "5b0f9712",
   "metadata": {},
   "outputs": [],
   "source": [
    "preise.describe()"
   ]
  },
  {
   "cell_type": "markdown",
   "id": "3593cbd7",
   "metadata": {},
   "source": [
    "Die Methode `.describe()` liefert acht statistische Kennzahlen, deren Bedeutung\n",
    "in der\n",
    "[Pandas-Dokumentation](https://pandas.pydata.org/docs/reference/api/pandas.Series.describe.html)\n",
    "erläutert wird. Wir gehen im Folgenden jede Kennzahl einzeln durch.\n",
    "\n",
    "Was machen wir aber, wenn wir die statistischen Kennzahlen erst später verwenden\n",
    "wollen? Können wir sie zwischenspeichern? Probieren wir es aus."
   ]
  },
  {
   "cell_type": "code",
   "execution_count": null,
   "id": "e46ddbcb",
   "metadata": {},
   "outputs": [],
   "source": [
    "statistische_kennzahlen = preise.describe()"
   ]
  },
  {
   "cell_type": "markdown",
   "id": "20738d68",
   "metadata": {},
   "source": [
    "Es kommt keine Fehlermeldung. Und was ist in der Variable\n",
    "`statistische_kennzahlen` nun genau gespeichert, welcher Datentyp?"
   ]
  },
  {
   "cell_type": "code",
   "execution_count": null,
   "id": "6244d22e",
   "metadata": {},
   "outputs": [],
   "source": [
    "type(statistische_kennzahlen)"
   ]
  },
  {
   "cell_type": "markdown",
   "id": "bf468e7c",
   "metadata": {},
   "source": [
    "Wie wir sehen wird durch das Anwenden der `.describe()`-Methode auf das\n",
    "Series-Objekt `preise` ein neues Series-Objekt erzeugt, in dem wiederum die\n",
    "statistischen Kennzahlen von `preise` gespeichert sind. Da wir im letzten\n",
    "Kapitel schon gelernt haben, dass mit eckigen Klammern und dem Index auf einen\n",
    "einzelnen Wert zugegriffen werden kann, können wir uns so den minimalen\n",
    "Verkaufspreis ausgeben lassen:"
   ]
  },
  {
   "cell_type": "code",
   "execution_count": null,
   "id": "78678da2",
   "metadata": {},
   "outputs": [],
   "source": [
    "minimaler_preis = statistische_kennzahlen['min']\n",
    "print(f'Das billigste Auto wird für {minimaler_preis} EUR angeboten.')"
   ]
  },
  {
   "cell_type": "markdown",
   "id": "a64fd993",
   "metadata": {},
   "source": [
    "**Mini-Übung**\n",
    "Lassen Sie die Verkaufspreise aufsteigend sortieren und ausgeben. Welches Auto\n",
    "ist am teuersten und für wie viel EUR wird es angeboten?\n",
    "\n",
    "Ermitteln Sie dann das Maximum mit `.describe()` und vergleichen Sie beide Werte.\n",
    "\n",
    "*Zusatzfrage:* Die Spanne (Maximum - Minimum) ist über 44.000 EUR groß. Wie\n",
    "groß ist die Standardabweichung im Vergleich zur Spanne? Was bedeutet das für\n",
    "die Streuung der Daten?"
   ]
  },
  {
   "cell_type": "code",
   "execution_count": null,
   "id": "ff284557",
   "metadata": {},
   "outputs": [],
   "source": [
    "# Hier Ihr Code"
   ]
  },
  {
   "cell_type": "markdown",
   "id": "6a02d84d",
   "metadata": {},
   "source": [
    "Neben der Möglichkeit, die statistischen Kennzahlen über .describe() berechnen\n",
    "zu lassen und dann mit dem expliziten Index darauf zuzugreifen, gibt es auch\n",
    "Methoden, um die statistischen Kennzahlen direkt zu ermitteln.\n",
    "\n",
    "## Anzahl count()\n",
    "\n",
    "Mit `.count()` wird die Anzahl der Einträge bestimmt, die *nicht* 'NA' sind. Der\n",
    "Begriff 'NA' ist ein Fachbegriff der Datenanalyse. Gemeint sind fehlende\n",
    "Einträge, wobei die fehlenden Einträge verschiedene Ursachen haben können:\n",
    "\n",
    "* NA = not available (der Messsensor hat versagt)\n",
    "* NA = not applicable (es ist sinnlos bei einem Mann nachzufragen, ob er\n",
    "  schwanger ist)\n",
    "* NA = no answer (eine Person hat bei der Umfrage nichts angegeben)"
   ]
  },
  {
   "cell_type": "code",
   "execution_count": null,
   "id": "f5cb3399",
   "metadata": {},
   "outputs": [],
   "source": [
    "anzahl_gueltige_preise = preise.count()\n",
    "print(f'Im Series-Objekt sind {anzahl_gueltige_preise} nicht NA-Werte, also gültige Datensätze gespeichert.')"
   ]
  },
  {
   "cell_type": "markdown",
   "id": "b595303a",
   "metadata": {},
   "source": [
    "## Mittelwert mean()\n",
    "\n",
    "Der Mittelwert ist die Summe aller Elemente geteilt durch ihre Anzahl. Wie\n",
    "praktisch, dass wir mit .count() schon die Anzahl der gültigen Werte geliefert\n",
    "bekommen. Rechnen wir zuerst einmal \"händisch\" nach, was der durchschnittliche\n",
    "Verkaufspreis der 10 Autos ist."
   ]
  },
  {
   "cell_type": "code",
   "execution_count": null,
   "id": "054dd77c",
   "metadata": {},
   "outputs": [],
   "source": [
    "preisliste = [1999, 35990, 17850, 46830, 27443, 14240, 19950, 15950, 21990, 12450]\n",
    "summe = 1999 + 35990 + 17850 + 46830 + 27443 + 14240 + 19950 + 15950 + 21990 + 12450\n",
    "print(f'Die Summe ist {summe} EUR.')\n",
    "mittelwert = summe / 10\n",
    "print(f'Der durchschnittliche Verkaufspreis ist {mittelwert} EUR.')"
   ]
  },
  {
   "cell_type": "markdown",
   "id": "9132581d",
   "metadata": {},
   "source": [
    "Mittelwert heißt auf Englisch mean. Daher ist es nicht verwunderlich, dass die\n",
    "Methode `.mean()` den Mittelwert der Einträge in jeder Spalte berechnet."
   ]
  },
  {
   "cell_type": "code",
   "execution_count": null,
   "id": "f65d8dda",
   "metadata": {},
   "outputs": [],
   "source": [
    "mittelwert = preise.mean()\n",
    "print(f'Der mittlere Verkaufspreis beträgt {mittelwert} EUR.')"
   ]
  },
  {
   "cell_type": "markdown",
   "id": "9c19876b",
   "metadata": {},
   "source": [
    "Das folgende Video wiederholt das Konzept des Mittelwerts.\n",
    "\n",
    "## Standardabweichung std()\n",
    "\n",
    "Der Mittelwert ist wichtig, aber er erzählt nicht die ganze Geschichte. Betrachten wir unsere Autopreise:"
   ]
  },
  {
   "cell_type": "code",
   "execution_count": null,
   "id": "0254472f",
   "metadata": {},
   "outputs": [],
   "source": [
    "mittelwert = preise.mean()\n",
    "print(f'Durchschnittspreis: {mittelwert:.2f} EUR')\n",
    "print('\\nAber schauen wir genauer hin:')\n",
    "print(f'Günstigstes Auto: {preise.min():.2f} EUR')\n",
    "print(f'Teuerstes Auto: {preise.max():.2f} EUR')\n",
    "print(f'Spanne: {preise.max() - preise.min():.2f} EUR')"
   ]
  },
  {
   "cell_type": "markdown",
   "id": "ac969302",
   "metadata": {},
   "source": [
    "Die Spanne von über 44.000 EUR zeigt: Diese Autos sind sehr unterschiedlich! Die **Standardabweichung** beschreibt diese Streuung in einer einzigen Zahl:"
   ]
  },
  {
   "cell_type": "code",
   "execution_count": null,
   "id": "2ffa4191",
   "metadata": {},
   "outputs": [],
   "source": [
    "standardabweichung = preise.std()\n",
    "print(f'Standardabweichung: {standardabweichung:.2f} EUR')"
   ]
  },
  {
   "cell_type": "markdown",
   "id": "964f7c26",
   "metadata": {},
   "source": [
    "Was bedeutet das konkret? Eine Standardabweichung von 13.000 EUR bei einem\n",
    "Mittelwert von 21.500 EUR bedeutet: Die Preise schwanken stark. Wenn wir ein\n",
    "\"durchschnittliches\" Auto für 21.500 EUR erwarten, müssen wir mit Abweichungen\n",
    "von ±13.000 EUR rechnen.\n",
    "\n",
    "Schauen wir uns das an unseren konkreten Daten an:\n",
    "\n",
    "* Mittelwert ± Standardabweichung = 21.469 ± 13.000 EUR\n",
    "* Das ergibt den Bereich: [8.469 EUR, 34.469 EUR]\n",
    "* Tatsächlich liegen 7 von 10 Autos in diesem Bereich\n",
    "\n",
    "Die Standardabweichung hat dieselbe Einheit wie die Originaldaten (hier: EUR).\n",
    "Das macht sie direkt interpretierbar im Gegensatz zur Varianz, die in EUR²\n",
    "gemessen wird.\n",
    "\n",
    "## Minimum und Maximum mit min() und max()\n",
    "\n",
    "Die Namen der Methoden `.min()` und `max()` sind fast schon wieder\n",
    "selbsterklärend. Die Methode `.min()` liefert den kleinsten Wert zurück, der\n",
    "gefunden wird. Umgekehrt liefert `.max()` den größten Eintrag. Wie häufig die\n",
    "minimalen und maximalen Werte vorkommen, ist dabei egal. Es kann durchaus sein,\n",
    "dass das Minimum oder das Maximum mehrfach vorkommt.\n",
    "\n",
    "Schauen wir uns an, was der niedrigste Verkaufspreis ist. Und dann schauen wir\n",
    "nach, welches Auto am teuersten ist."
   ]
  },
  {
   "cell_type": "code",
   "execution_count": null,
   "id": "36b6e2b0",
   "metadata": {},
   "outputs": [],
   "source": [
    "preis_min = preise.min()\n",
    "print(f'Das billigste oder die billigsten Autos werden zum Preis von {preis_min} EUR angeboten.')\n",
    "\n",
    "preis_max = preise.max()\n",
    "print(f'Das teuerste oder die teuersten Autos werden für {preis_max} EUR angeboten.')"
   ]
  },
  {
   "cell_type": "markdown",
   "id": "fbaae429",
   "metadata": {},
   "source": [
    "## Quantil mit quantile()\n",
    "\n",
    "Das Quantil $p\\%$ ist der Wert, bei dem $p\\%$ der Einträge kleiner oder gleich\n",
    "diesem Wert sind und $100\\% - p\\%$ sind größer. Meist werden nicht Prozentzahlen\n",
    "verwendet, sondern p ist zwischen 0 und 1, wobei die 1 für 100 % steht.\n",
    "\n",
    "Angenommen, wir würden gerne das 0.5-Quantil (auch Median genannt) der Preise\n",
    "wissen. Mit der Methode `.quantile()` können wir diesen Wert leicht aus den\n",
    "Daten holen."
   ]
  },
  {
   "cell_type": "code",
   "execution_count": null,
   "id": "f1f820c7",
   "metadata": {},
   "outputs": [],
   "source": [
    "quantil50 = preise.quantile(0.5)\n",
    "print(f'Der Median, d.h. das 50 % Quantil, liegt bei {quantil50} EUR.')"
   ]
  },
  {
   "cell_type": "markdown",
   "id": "ca1c56b7",
   "metadata": {},
   "source": [
    "Das 50 % -Quantil liegt bei 18900 EUR. 50 % aller Autos werden zu einem Preis\n",
    "angeboten, der kleiner oder gleich 18900 EUR ist. Und 50 % aller Autos werden\n",
    "teurer angeboten. Wir schauen uns jetzt das 75 % Quantil an."
   ]
  },
  {
   "cell_type": "code",
   "execution_count": null,
   "id": "54e7bc36",
   "metadata": {},
   "outputs": [],
   "source": [
    "quantil75 = preise.quantile(0.75)\n",
    "print(f'75 % aller Autos haben einen Preis kleiner gleich {quantil75} EUR.')"
   ]
  },
  {
   "cell_type": "markdown",
   "id": "3b74fd31",
   "metadata": {},
   "source": [
    "75 % aller Autos werden günstiger als 26079.75 EUR angeboten. Wir können uns für\n",
    "jeden beliebigen Prozentsatz zwischen 0 % und 100 % das Quantil ansehen, aber\n",
    "häufig wird neben dem 75 % Quantil, dem 50 % Quantil noch das 25 % Quantil\n",
    "betrachtet."
   ]
  },
  {
   "cell_type": "code",
   "execution_count": null,
   "id": "2ab74283",
   "metadata": {},
   "outputs": [],
   "source": [
    "quantil25 = preise.quantile(0.25)\n",
    "print(f'25 % aller Autos haben einen Preis kleiner gleich {quantil25} EUR.')"
   ]
  },
  {
   "cell_type": "markdown",
   "id": "79e62007",
   "metadata": {},
   "source": [
    "## Zusammenfassung und Ausblick\n",
    "\n",
    "In diesem Abschnitt haben wir uns mit einfachen statistischen Kennzahlen\n",
    "beschäftigt, die Pandas mit der Methode `.describe()` zusammenfasst, die aber\n",
    "auch einzeln über\n",
    "\n",
    "* `.count()`\n",
    "* `.mean()`\n",
    "* `.std()`\n",
    "* `.min()` und `.max()`\n",
    "* `.quantile()`\n",
    "\n",
    "berechnet und ausgegeben werden können. Im nächsten Kapitel geht es darum, durch\n",
    "Diagramme mehr über die Daten zu erfahren."
   ]
  }
 ],
 "metadata": {
  "jupytext": {
   "formats": "ipynb"
  },
  "kernelspec": {
   "display_name": "Python 3",
   "language": "python",
   "name": "python3"
  }
 },
 "nbformat": 4,
 "nbformat_minor": 5
}
