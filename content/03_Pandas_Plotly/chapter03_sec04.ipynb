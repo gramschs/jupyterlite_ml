{
 "cells": [
  {
   "cell_type": "markdown",
   "id": "03c287f0",
   "metadata": {},
   "source": [
    "# Übungen\n",
    "\n",
    "Gegeben sind folgende Daten zu der Verteilung von Studierenden\n",
    "(männlich/weiblich) auf die Hochschularten Universität und Fachhochschulen\n",
    "(Hochschulen für angewandte Wissenschaften), Quelle:\n",
    "[https://www.statistischebibliothek.de/mir/receive/DESerie_mods_00007716]\n",
    "\n",
    "```python\n",
    "bundeslaender = ['Baden-Württemberg', 'Bayern', 'Berlin', 'Brandenburg', \n",
    "                 'Bremen', 'Hamburg', 'Hessen', 'Mecklenburg-Vorpommern', \n",
    "                 'Niedersachsen', 'Nordrhein-Westfalen', 'Rheinland-Pfalz',\n",
    "                 'Saarland', 'Sachsen', 'Sachsen-Anhalt',\n",
    "                 'Schleswig-Holstein', 'Thüringen']\n",
    "studierende_universitaeten_maennlich = [85183, 118703, 58682, 15845,\n",
    "                                        9291, 27444, 68753, 10349, \n",
    "                                        62192, 235564, 31487, 7806, \n",
    "                                        35826, 15847, 16548, 14350]\n",
    "studierende_universitaeten_weiblich = [82635, 131158, 65587, 18742,\n",
    "                                       10181, 28438, 75292, 12821,\n",
    "                                       69866, 246467, 41755, 8391,\n",
    "                                       37669, 17061, 22760, 17245]\n",
    "studierende_fachhochschulen_maennlich = [83058, 81163, 34727, 7778,\n",
    "                                         8299, 26818, 53998, 7120,\n",
    "                                         33147, 132976, 21759, 7407,\n",
    "                                         15497, 12023, 14167, 39330]\n",
    "studierende_fachhochschulen_weiblich = [65332, 63198, 33333, 6323,\n",
    "                                        8235, 33558, 47600, 6886,\n",
    "                                        27157, 106755, 18042, 5767,\n",
    "                                        11087, 11273, 7943, 63669]\n",
    "```"
   ]
  },
  {
   "cell_type": "markdown",
   "id": "b6a04c4d",
   "metadata": {},
   "source": [
    "## Übung 3.1\n",
    "\n",
    "Speichern Sie die Daten zu den Studentinnen an Fachhochschulen als Pandas-Series.\n",
    "Verschaffen Sie sich einen Überblick über die statistischen Kennzahlen. Lesen\n",
    "Sie dann ab: In welchem Bundesland studieren die wenigsten Studentinnen und im\n",
    "welchem Bundesland die meisten?"
   ]
  },
  {
   "cell_type": "code",
   "execution_count": null,
   "id": "38a29e47",
   "metadata": {},
   "outputs": [],
   "source": [
    "# Code-Zelle"
   ]
  },
  {
   "cell_type": "markdown",
   "id": "40c87a27",
   "metadata": {},
   "source": [
    "## Übung 3.2\n",
    "\n",
    "Wählen Sie **einen** der drei verbleibenden Datensätze aus:\n",
    "\n",
    "* Studenten an Universitäten\n",
    "* Studentinnen an Universitäten  \n",
    "* Studenten an Fachhochschulen\n",
    "\n",
    "Erstellen Sie ein Series-Objekt für diesen Datensatz und überprüfen Sie, ob auch\n",
    "dort das Saarland das Minimum und Nordrhein-Westfalen das Maximum hat. Lassen\n",
    "Sie Minimum und Maximum mit `.min()` und `.max()` ausgeben und kontrollieren Sie\n",
    "durch Anzeige des Datensatzes, welches Bundesland dazugehört.\n",
    "\n",
    "Zusatzfrage: Was vermuten Sie für die anderen beiden Datensätze, die Sie nicht\n",
    "untersucht haben? Begründen Sie Ihre Vermutung."
   ]
  },
  {
   "cell_type": "code",
   "execution_count": null,
   "id": "b86886b5",
   "metadata": {},
   "outputs": [],
   "source": [
    "# Code-Zelle"
   ]
  },
  {
   "cell_type": "markdown",
   "id": "138494db",
   "metadata": {},
   "source": [
    "## Übung 3.3\n",
    "\n",
    "Lassen Sie die Datensätze zu Studentinnen an Fachhochschulen und Studenten an\n",
    "Fachhochschulen durch Boxplots visualisieren.\n",
    "\n",
    "Teil A: Erstellen Sie den ersten Boxplot für Studentinnen an Fachhochschulen\n",
    "mit folgenden Eigenschaften:\n",
    "\n",
    "* Benennen Sie das Series-Objekt mit 'Studentinnen FH'.\n",
    "* Beschriften Sie die y-Achse mit 'Anzahl Studierende'.\n",
    "* Setzen Sie den Titel 'Studentinnen an Fachhochschulen'.\n",
    "* Zeigen Sie alle Datenpunkte neben dem Boxplot an.\n",
    "\n",
    "Teil B: Erstellen Sie analog einen zweiten Boxplot für Studenten an\n",
    "Fachhochschulen. Achten Sie darauf, eine andere Variablennamen für das Diagramm\n",
    "zu verwenden (z.B. `diagramm2` statt `diagramm`), damit der erste Boxplot nicht\n",
    "überschrieben wird.\n",
    "\n",
    "Interpretationsfrage: Gibt es Ausreißer? Wenn ja, bei welchem Datensatz und\n",
    "welches Bundesland ist betroffen?"
   ]
  },
  {
   "cell_type": "code",
   "execution_count": null,
   "id": "a056d5fa",
   "metadata": {},
   "outputs": [],
   "source": [
    "# Code-Zelle"
   ]
  },
  {
   "cell_type": "markdown",
   "id": "f52b3bf3",
   "metadata": {},
   "source": [
    "## Übung 3.4\n",
    "\n",
    "Erstellen Sie für alle vier Datensätze Boxplots mit aussagekräftigen\n",
    "Beschriftungen:\n",
    "\n",
    "* Studentinnen an Fachhochschulen\n",
    "* Studenten an Fachhochschulen\n",
    "* Studenten an Universitäten\n",
    "* Studentinnen an Universitäten\n",
    "\n",
    "Verwenden Sie für jeden Boxplot:\n",
    "\n",
    "* Einen Namen für das Series-Objekt\n",
    "* Die Beschriftung `'Anzahl Studierende'` für die y-Achse\n",
    "* Einen passenden Titel\n",
    "\n",
    "Hinweis: Die Boxplots müssen nicht einzeln angezeigt werden, speichern Sie\n",
    "sie aber in den Variablen `fig1`, `fig2`, `fig3` und `fig4`, damit Sie sie in\n",
    "der nächsten Aufgabe vergleichen können.\n"
   ]
  },
  {
   "cell_type": "code",
   "execution_count": null,
   "id": "8ec8c9f3",
   "metadata": {},
   "outputs": [],
   "source": [
    "# Code-Zelle"
   ]
  },
  {
   "cell_type": "markdown",
   "id": "0424fae4",
   "metadata": {},
   "source": [
    "## Übung 3.5\n",
    "\n",
    "Vergleichen Sie die vier Boxplots miteinander, indem Sie sie nacheinander mit\n",
    "`.show()` anzeigen lassen. Nutzen Sie die Hover-Funktion (Maus über die Box\n",
    "bewegen), um die Werte abzulesen.\n",
    "\n",
    "Teil A: Erstellen Sie eine Vergleichstabelle in einer Markdown-Zelle:\n",
    "\n",
    "| Datensatz | Median | Q1 (25%) | Q3 (75%) | Ausreißer vorhanden? |\n",
    "|-----------|--------|----------|----------|----------------------|\n",
    "| Studentinnen FH | ... | ... | ... | ja/nein |\n",
    "| Studenten FH | ... | ... | ... | ja/nein |\n",
    "| Studenten Uni | ... | ... | ... | ja/nein |\n",
    "| Studentinnen Uni | ... | ... | ... | ja/nein |\n",
    "\n",
    "Teil B: Beantworten Sie folgende Fragen:\n",
    "\n",
    "1. An welcher Hochschulart (Uni oder FH) ist die Streuung der Studierendenzahlen\n",
    "   größer?\n",
    "2. Bei welchem Datensatz liegt der Median am weitesten von der Mitte zwischen Q1\n",
    "   und Q3 entfernt? Was bedeutet das?\n",
    "3. Welche Bundesländer tauchen als Ausreißer auf?"
   ]
  },
  {
   "cell_type": "code",
   "execution_count": null,
   "id": "f48630cc",
   "metadata": {},
   "outputs": [],
   "source": [
    "# Code-Zelle"
   ]
  }
 ],
 "metadata": {
  "jupytext": {
   "formats": "ipynb"
  },
  "kernelspec": {
   "display_name": "python312",
   "language": "python",
   "name": "python3"
  },
  "language_info": {
   "codemirror_mode": {
    "name": "ipython",
    "version": 3
   },
   "file_extension": ".py",
   "mimetype": "text/x-python",
   "name": "python",
   "nbconvert_exporter": "python",
   "pygments_lexer": "ipython3",
   "version": "3.12.2"
  }
 },
 "nbformat": 4,
 "nbformat_minor": 5
}
