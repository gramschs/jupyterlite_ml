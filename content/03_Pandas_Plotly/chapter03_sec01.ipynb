{
 "cells": [
  {
   "cell_type": "markdown",
   "id": "1e2f1c98",
   "metadata": {},
   "source": [
    "# 3.1 Pandas Series\n",
    "\n",
    "Eine **Series** ist eine von zwei grundlegenden Datenstrukturen des\n",
    "Pandas-Moduls. Die Series dient vor allem dazu, Daten zu verwalten und\n",
    "statistisch zu erkunden. Bevor wir die neue Datenstruktur näher beleuchten,\n",
    "machen wir uns aber zuerst mit dem **Modul Pandas** vertraut.\n",
    "\n",
    "## Lernziele\n",
    "\n",
    "* Sie können erklären, was ein **Modul** in Python ist.\n",
    "* Sie kennen das Modul **Pandas** und können es mit seiner üblichen Abkürzung\n",
    "  **pd** importieren.\n",
    "* Sie kennen die Pandas-Datenstruktur **Series**.\n",
    "* Sie wissen, was ein **Index** ist.\n",
    "* Sie können aus Listen ein Series-Objekt erzeugen und mit einem Index\n",
    "  versehen.\n",
    "* Sie können mit Series-Objekten rechnen.\n",
    "* Sie können die Elemente eines Series-Objektes mit **sort_values()**\n",
    "  aufsteigend und absteigend sortieren lassen.\n",
    "\n",
    "## Das Modul Pandas\n",
    "\n",
    "In der Programmierung können wir alle Funktionalitäten selbst programmieren.\n",
    "Oder wir verwenden schon fertige Komponenten und setzen sie so zusammen, wie wir\n",
    "es zur Lösung unseres Problems brauchen. Eine Sammlung von fertigen\n",
    "Python-Komponenten zu einem bestimmten Thema wird **Modul** genannt. In anderen\n",
    "Programmiersprachen oder allgemein in der Informatik nennt man eine solche\n",
    "Sammlung auch **Bibliothek** oder verwendet den englischen Begriff **Library**.\n",
    "\n",
    "Ein Modul (oder eine Bibliothek oder eine Library) ist eine Sammlung von\n",
    "Python-Code zu einem bestimmten Thema, der als Werkzeug für eigene Programme\n",
    "eingesetzt werden kann.\n",
    "\n",
    "Um ein Modul in Python benutzen zu können, muss es zunächst einmal installiert\n",
    "sein. Um dann die Funktionen, Klassen, Datentypen oder Konstanten benutzen zu\n",
    "können, die das Modul zur Verfügung stellt, wird es importiert. Wir werden in\n",
    "dieser Vorlesung sehr intensiv das Modul **Pandas** verwenden. Pandas ist ein\n",
    "Modul zur Verarbeitung und Analyse von Daten. Es ist üblich, das Modul `pandas`\n",
    "mit der Abkürzung `pd` zu importieren, damit wir nicht immer `pandas` schreiben\n",
    "müssen, wenn wir Code aus dem Pandas-Modul benutzen."
   ]
  },
  {
   "cell_type": "code",
   "execution_count": null,
   "id": "1a901650",
   "metadata": {},
   "outputs": [],
   "source": [
    "import pandas as pd"
   ]
  },
  {
   "cell_type": "markdown",
   "id": "610244a1",
   "metadata": {},
   "source": [
    "Sollten jetzt eine Fehlermeldung auftauchen, ist das Pandas-Modul nicht\n",
    "installiert. Installieren Sie zunächst Pandas beispielsweise mit `!conda install\n",
    "pandas` oder `!pip install pandas`. Mit der Funktion `dir()` werden alle\n",
    "Funktionalitäten des Moduls aufgelistet."
   ]
  },
  {
   "cell_type": "code",
   "execution_count": null,
   "id": "94890767",
   "metadata": {},
   "outputs": [],
   "source": [
    "dir(pd)"
   ]
  },
  {
   "cell_type": "markdown",
   "id": "269415f8",
   "metadata": {},
   "source": [
    "Die Ausgabe ist sehr lang und zunächst unübersichtlich. Wenn wir mehr über eine\n",
    "bestimmte Funktionalität erfahren möchten, können wir die `help()`-Funktion\n",
    "verwenden. Beispielsweise liefert `help(pd.read_csv)` eine ausführliche\n",
    "Beschreibung der Funktion zum Import von csv-Dateien:"
   ]
  },
  {
   "cell_type": "code",
   "execution_count": null,
   "id": "f22d39b6",
   "metadata": {},
   "outputs": [],
   "source": [
    "help(pd.read_csv)"
   ]
  },
  {
   "cell_type": "markdown",
   "id": "d7f3a36d",
   "metadata": {},
   "source": [
    "Alternativ können wir auch in der offiziellen\n",
    "[Pandas-Dokumentation](https://pandas.pydata.org/docs/user_guide/index.html)\n",
    "nachschlagen, die übersichtlicher formatiert ist und viele Beispiele enthält.\n",
    "\n",
    "## Die Datenstruktur Series\n",
    "\n",
    "Einfache Listen reichen nicht aus, um größere Datenmengen effizient zu speichern\n",
    " und zu analysieren. Listen haben mehrere Nachteile: Sie speichern keine\n",
    "Information über den Datentyp ihrer Elemente, bieten keine Möglichkeit,\n",
    "Metadaten wie beschreibende Labels zu hinterlegen, und sind bei großen\n",
    "Datenmengen ineffizient. Dazu benutzen Data Scientists die Datenstrukturen\n",
    "`Series` oder `DataFrame` aus dem Pandas-Modul. Dabei wird **Series** für\n",
    "Datenreihen genommen. Damit sind Vektoren gemeint, wenn alle Elemente der\n",
    "Datenreihe aus Zahlen bestehen, oder eindimensionale Arrays. Die Datenstruktur\n",
    "**DataFrame** wiederum dient zum Speichern und Verarbeiten von tabellierten\n",
    "Daten, also Matrizen, wenn alle Elemente Zahlen sind, oder zweidimensionale\n",
    "Arrays.\n",
    "\n",
    "Wir starten mit der Datenstruktur Series. Als Beispiel betrachten wir die\n",
    "Verkaufspreise (in Euro) von zehn Autos. Die Daten stammen von der\n",
    "Internetplattform [Autoscout24](https://www.autoscout24.de). Die Preise kommen\n",
    "zunächst in eine Liste (erkennbar an den eckigen Klammern), aus der dann ein\n",
    "Series-Objekt erzeugt wird."
   ]
  },
  {
   "cell_type": "code",
   "execution_count": null,
   "id": "39f2b81f",
   "metadata": {},
   "outputs": [],
   "source": [
    "preisliste = [1999, 35990, 17850, 46830, 27443, 14240, 19950, 15950, 21990, 50000]\n",
    "preise = pd.Series(preisliste)\n",
    "print(preise)"
   ]
  },
  {
   "cell_type": "markdown",
   "id": "41161db2",
   "metadata": {},
   "source": [
    "Was ist aber jetzt der Vorteil von Pandas? Warum nicht einfach bei der Liste\n",
    "bleiben? Der wichtigste Unterschied zwischen Liste und Series ist der **Index**.\n",
    "\n",
    "Bei einer Liste werden Elemente über ihre Position angesprochen, der Index ist\n",
    "immer eine Ganzzahl beginnend bei 0. Wenn bei einer Liste auf das dritte Element\n",
    "zugegriffen werden soll, dann verwenden wir den Index 2 (zur Erinnerung: Python\n",
    "zählt ab 0) und schreiben"
   ]
  },
  {
   "cell_type": "code",
   "execution_count": null,
   "id": "515db8b3",
   "metadata": {},
   "outputs": [],
   "source": [
    "preis_drittes_auto = preisliste[2]\n",
    "print(f'Preis des dritten Autos: {preis_drittes_auto} EUR')"
   ]
  },
  {
   "cell_type": "markdown",
   "id": "235e48fb",
   "metadata": {},
   "source": [
    "Die Datenstruktur Series ermöglicht es aber, einen *expliziten Index* zu setzen.\n",
    "Über den optionalen Parameter `index=` speichern wir als Zusatzinformation noch\n",
    "ab, von welchem Auto der Verkaufspreis erfasst wurde. Wir werden diesen\n",
    "Datensatz in den folgenden Kapiteln noch weiter vertiefen. An dieser Stelle\n",
    "halten wir fest, dass die ersten drei Autos von der Marke Audi sind, die\n",
    "nächsten sind BMWs und die letzten fünf sind von der Marke Citroen."
   ]
  },
  {
   "cell_type": "code",
   "execution_count": null,
   "id": "dcf4e013",
   "metadata": {},
   "outputs": [],
   "source": [
    "autos = ['Audi Nr. 1', 'Audi Nr. 2', 'Audi Nr. 3', 'BMW Nr. 1', 'BMW Nr. 2', 'Citroen Nr. 1', 'Citroen Nr. 2', 'Citroen Nr. 3', 'Citroen Nr. 4', 'Citroen Nr. 5']\n",
    "preise = pd.Series(preisliste, index = autos)\n",
    "print(preise)"
   ]
  },
  {
   "cell_type": "markdown",
   "id": "cc1d2ac7",
   "metadata": {},
   "source": [
    "Beim ersten Aufruf von `print(preise)` wurden die Zahlen 0, 1, 2, usw.\n",
    "ausgegeben, weil das Series-Objekt zu dem Zeitpunkt noch einen automatisch\n",
    "generierten ganzzahligen Index hatte. Den expliziten Index nutzen wir jetzt, um\n",
    "auf den Verkaufspreis des dritten Autos zuzugreifen. Das dritte Auto ist `Audi\n",
    "Nr. 3`. Wie bei Listen verwenden wir eckige Klammern:"
   ]
  },
  {
   "cell_type": "code",
   "execution_count": null,
   "id": "cc6eea67",
   "metadata": {},
   "outputs": [],
   "source": [
    "preis_drittes_auto = preise['Audi Nr. 3']\n",
    "print(f'Preis des dritten Autos: {preis_drittes_auto} EUR')"
   ]
  },
  {
   "cell_type": "markdown",
   "id": "120e3b47",
   "metadata": {},
   "source": [
    "Die Datenstruktur Series hat gegenüber der Liste noch einen weiteren Vorteil. In\n",
    "der Datenstruktur ist noch eine Zusatzinformation gespeichert, die Eigenschaft\n",
    "`dtype`. Darin gespeichert ist der Datentyp der Elemente des Series-Objektes.\n",
    "Auf diese Eigenschaft können wir direkt mit dem sogenannten Punktoperator\n",
    "zugreifen."
   ]
  },
  {
   "cell_type": "code",
   "execution_count": null,
   "id": "33ef4c74",
   "metadata": {},
   "outputs": [],
   "source": [
    "datentyp_preise = preise.dtype\n",
    "print(f'Die einzelnen Elemente des Series-Objektes \"preise\" haben den Datentyp {datentyp_preise}, sind also Integer.')"
   ]
  },
  {
   "cell_type": "markdown",
   "id": "5b7fb750",
   "metadata": {},
   "source": [
    "Offensichtlich sind die gespeicherten Werte Integer. Die Zusatzinformation\n",
    "`int64` bedeutet, dass es sich um einen 64-Bit-Integer handelt.\n",
    "\n",
    "**Mini-Übung**\n",
    "Erzeugen Sie ein Series-Objekt mit den Wochentagen als Index. Verwenden Sie\n",
    "dabei nur die Werktage und speichern Sie, wie viele Stunden Sie an diesem Tag\n",
    "schlafen. Welchen Datentyp haben die Elemente?"
   ]
  },
  {
   "cell_type": "code",
   "execution_count": null,
   "id": "a9742b62",
   "metadata": {},
   "outputs": [],
   "source": [
    "# Hier Ihr Code:"
   ]
  },
  {
   "cell_type": "markdown",
   "id": "c6b24118",
   "metadata": {},
   "source": [
    "## Arbeiten mit Series-Objekten\n",
    "\n",
    "Falls der Datentyp der einzelnen Elemente eines Series-Objektes ein numerischer\n",
    "Typ ist (Integer oder Float), können wir mit den Einträgen auch rechnen. So\n",
    "lassen sich beispielweise die Preise nicht in Euro, sondern als Preis pro\n",
    "Tausend Euro angeben, wenn wir alle Preise durch 1000 teilen."
   ]
  },
  {
   "cell_type": "code",
   "execution_count": null,
   "id": "dab78195",
   "metadata": {},
   "outputs": [],
   "source": [
    "preise_pro_1000euro = preise / 1000\n",
    "print(preise_pro_1000euro)"
   ]
  },
  {
   "cell_type": "markdown",
   "id": "0caa6b1e",
   "metadata": {},
   "source": [
    "Wir könnten auch auf die Idee kommen, das billigste Auto auf den Preis 0 zu\n",
    "setzen und ausgeben, um wie viel Euro die anderen Autos teurer sind. Oder anders\n",
    "ausgedrückt, wir subtrahieren von jedem Preis den Wert 1999 EUR:"
   ]
  },
  {
   "cell_type": "code",
   "execution_count": null,
   "id": "3c3f6a4b",
   "metadata": {},
   "outputs": [],
   "source": [
    "preise_differenz = preise - 1999\n",
    "print(preise_differenz)"
   ]
  },
  {
   "cell_type": "markdown",
   "id": "5c1b9252",
   "metadata": {},
   "source": [
    "Bei zehn Autos war es relativ einfach, das billigste Auto zu ermitteln, indem\n",
    "wir einfach die Preisliste durchgeschaut haben. Hilfreicher ist es, vorher die\n",
    "Preise aufsteigend oder absteigend zu sortieren. Dazu nutzen wir die Methode\n",
    "`.sort_values()`. Der Name lässt vermuten, dass die Methode die Elemente nach\n",
    "ihrem Wert sortiert."
   ]
  },
  {
   "cell_type": "code",
   "execution_count": null,
   "id": "1a03be24",
   "metadata": {},
   "outputs": [],
   "source": [
    "preise_aufsteigend = preise.sort_values()\n",
    "print(preise_aufsteigend)"
   ]
  },
  {
   "cell_type": "markdown",
   "id": "e7dd3b32",
   "metadata": {},
   "source": [
    "Jetzt zeigt sich auch der Vorteil des expliziten Index, denn auf die\n",
    "ursprüngliche Reihenfolge kommt es nicht an. Der explizite Index ermöglicht uns,\n",
    "jedes Auto auch in der nach Preisen aufsteigend sortierten Liste eindeutig\n",
    "wiederzufinden. Zum Abschluss sortieren wir noch absteigend. Mit dem optionalen\n",
    "Argument `ascending` wird gesteuert, ob aufsteigend sortiert werden soll oder\n",
    "nicht. Fehlt das Argument, so nimmt der Python-Interpreter an, dass `ascending =\n",
    "True` gewünscht wird, also dass `aufsteigend = wahr` sein soll. Wollen wir\n",
    "absteigend sortieren, müssen wir `aufsteigend = falsch` setzen, also `ascending\n",
    " = False`."
   ]
  },
  {
   "cell_type": "code",
   "execution_count": null,
   "id": "9ba51229",
   "metadata": {},
   "outputs": [],
   "source": [
    "preise_absteigend = preise.sort_values(ascending = False)\n",
    "print(preise_absteigend)"
   ]
  },
  {
   "cell_type": "markdown",
   "id": "99247b34",
   "metadata": {},
   "source": [
    "Wir haben das sortierte Series-Objekt gleich in einer neuen Variable\n",
    "abgespeichert. Das ist notwendig, wenn die neue Sortierung erhalten bleiben\n",
    "soll. Standardmäßig wirkt der Sortierungsbefehl nämlich nur einmalig und ändert\n",
    "die eigentliche Reihenfolge im Original nicht. Auch das könnte man durch weitere\n",
    "Parameter ändern (`inplace = True`), wie wir in der [Pandas-Dokumentation →\n",
    "sort_values()](https://pandas.pydata.org/docs/reference/api/pandas.Series.sort_values.html)\n",
    "nachlesen können.\n",
    "\n",
    "**Mini-Übung**\n",
    "Alice, Bob, Charlie und Dora sind 22, 20, 24 und 22 Jahre alt. Speichern Sie\n",
    "diese Informationen in einem Series-Objekt und sortieren Sie von alt nach jung.\n",
    "Zusatzfrage: Was fällt Ihnen bei der Sortierung auf, wenn zwei Personen gleich\n",
    "alt sind? Bleibt ihre ursprüngliche Reihenfolge erhalten?"
   ]
  },
  {
   "cell_type": "code",
   "execution_count": null,
   "id": "1669bb06",
   "metadata": {},
   "outputs": [],
   "source": [
    "# Hier Ihr Code"
   ]
  },
  {
   "cell_type": "markdown",
   "id": "9272d0d1",
   "metadata": {},
   "source": [
    "## Zusammenfassung und Ausblick\n",
    "\n",
    "In diesem Kapitel haben wir Pandas und die sehr wichtige Datenstruktur Series\n",
    "kennengelernt. Im nächsten Kapitel geht es darum, die wichtigsten statistischen\n",
    "Kennzahlen der Daten zu ermitteln, die in dem Series-Objekt gespeichert sind."
   ]
  }
 ],
 "metadata": {
  "jupytext": {
   "formats": "ipynb"
  },
  "kernelspec": {
   "display_name": "Python 3",
   "language": "python",
   "name": "python3"
  }
 },
 "nbformat": 4,
 "nbformat_minor": 5
}
