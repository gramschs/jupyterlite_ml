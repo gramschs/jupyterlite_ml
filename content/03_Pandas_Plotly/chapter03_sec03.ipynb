{
 "cells": [
  {
   "cell_type": "markdown",
   "id": "0d25791e",
   "metadata": {},
   "source": [
    "# 3.3 Boxplots mit Plotly\n",
    "\n",
    "Die wichtigsten statistischen Kennzahlen lassen sich mit einem Diagramm\n",
    "visualisieren, das Boxplot genannt wird. Gelegentlich wird auch der deutsche\n",
    "Begriff Kastendiagramm dafür gebraucht. In diesem Kapitel visualisieren wir nur\n",
    "einen Datensatz. Die große Stärke der Boxplots ist normalerweise, die\n",
    "statistischen Kennzahlen von verschiedenen Datensätzen nebeneinander zu\n",
    "visualisieren, um so leicht einen Vergleich der Datensätze zu ermöglichen.\n",
    "\n",
    "## Lernziele\n",
    "\n",
    "* Sie können **Plotly Express** mit der typischen Abkürzung **px** importieren.\n",
    "* Sie können mit **px.box()** einen Boxplot eines Pandas-Series-Objektes\n",
    "  visualisieren.\n",
    "* Sie können die Beschriftung eines Boxplots verändern. Dazu gehört die\n",
    "  Beschriftung der Achsen und der Titel.\n",
    "* Sie können die Datenpunkte neben einem Boxplot anzeigen lassen.\n",
    "* Sie wissen, was ein **Ausreißer** ist und können Ausreißer im Boxplot anzeigen\n",
    "  lassen.\n",
    "\n",
    "## Plotly\n",
    "\n",
    "Es gibt zahlreiche Python-Module zur Visualisierung von Daten. In dieser\n",
    "Vorlesung verwenden wir **Plotly**, das im Gegensatz zu anderen Bibliotheken wie\n",
    "Matplotlib interaktive Diagramme erstellt. Mit **Plotly Express** steht uns eine\n",
    "einfach zu bedienende Schnittstelle zur Erstellung verschiedenster Diagrammtypen\n",
    "zur Verfügung.\n",
    "\n",
    "Üblicherweise wird Plotly Express als `px` abgekürzt."
   ]
  },
  {
   "cell_type": "code",
   "execution_count": null,
   "id": "0c76154d",
   "metadata": {},
   "outputs": [],
   "source": [
    "import plotly.express as px"
   ]
  },
  {
   "cell_type": "markdown",
   "id": "c61204bb",
   "metadata": {},
   "source": [
    "Sollte eine Fehlermeldung auftreten, kann Plotly mit `!pip install plotly` oder\n",
    "`!conda install plotly` nachinstalliert werden.\n",
    "\n",
    "## Boxplots mit Plotly Express\n",
    "\n",
    "Wir greifen erneut unser Autoscout24-Beispiel mit den 10 Autos auf."
   ]
  },
  {
   "cell_type": "code",
   "execution_count": null,
   "id": "af12eeba",
   "metadata": {},
   "outputs": [],
   "source": [
    "import pandas as pd\n",
    "\n",
    "preisliste = [1999, 35990, 17850, 46830, 27443, 14240, 19950, 15950, 21990, 12450]\n",
    "preise = pd.Series(preisliste, index=[\n",
    "  'Audi Nr. 1', 'Audi Nr. 2', 'Audi Nr. 3',\n",
    "  'BMW Nr. 1', 'BMW Nr. 2', \n",
    "  'Citroen Nr. 1', 'Citroen Nr. 2', 'Citroen Nr. 3', 'Citroen Nr. 4', 'Citroen Nr. 5'\n",
    "  ])\n",
    "\n",
    "print(preise)"
   ]
  },
  {
   "cell_type": "markdown",
   "id": "d7f40db1",
   "metadata": {},
   "source": [
    "Um einen Boxplot zu erstellen, nutzen wir die Funktion `box()` von Plotly\n",
    "Express. Wir speichern das Diagramm, das durch diese Funktion erstellt wird, in\n",
    "der Variablen `diagramm`. Um es dann auch nach seiner Erzeugung tatsächlich\n",
    "anzeigen zu lassen, verwenden wir die Methode `.show()`. Zusammen sieht der\n",
    "Python-Code zur Erzeugung eines Boxplots folgendermaßen aus:"
   ]
  },
  {
   "cell_type": "code",
   "execution_count": null,
   "id": "fcfc8074",
   "metadata": {},
   "outputs": [],
   "source": [
    "diagramm = px.box(preise)\n",
    "diagramm.show()"
   ]
  },
  {
   "cell_type": "markdown",
   "id": "939ab61b",
   "metadata": {},
   "source": [
    "Bewegen wir die Maus über dem Diagramm, sehen wir verschiedene interaktive Funktionen:\n",
    "\n",
    "* Hover-Informationen zeigen die genauen Werte an.\n",
    "* Rechts oben erscheinen Buttons zum Zoomen, Verschieben und Herunterladen.\n",
    "* Mit der Maus können wir in das Diagramm hineinzoomen.\n",
    "\n",
    "Die untere Antenne (Whisker) zeigt das Minimum an, die obere Antenne das Maximum\n",
    "der Daten. Der Kasten (Box) wird durch das untere Quartil Q1 und das obere\n",
    "Quartil Q3 begrenzt. Oder anders formuliert: In der Box liegen 50 % aller\n",
    "Datenpunkte. Der Median wird durch die horizontale Linie in der Box dargestellt.\n",
    "\n",
    "**Mini-Übung**\n",
    "Erstellen Sie einen Boxplot der Autopreise und beantworten Sie anhand des\n",
    "Diagramms:\n",
    "\n",
    "1. Was ist der Median (die mittlere Linie in der Box)?\n",
    "2. Zwischen welchen beiden Werten liegen 50 % aller Autos?\n",
    "\n",
    "*Tipp: Bewegen Sie die Maus über die Box, um die genauen Werte zu sehen.*"
   ]
  },
  {
   "cell_type": "code",
   "execution_count": null,
   "id": "2b3e2711",
   "metadata": {},
   "outputs": [],
   "source": [
    "# Hier Ihr Code"
   ]
  },
  {
   "cell_type": "markdown",
   "id": "dc28d7c7",
   "metadata": {},
   "source": [
    "## Beschriftung des Boxplots verändern\n",
    "\n",
    "Die Achsenbeschriftungen wurden automatisch gesetzt. Die x-Achse ist mit\n",
    "'variable' und die y-Achse mit 'value' beschriftet. Darüber hinaus ist der Titel\n",
    "der Box '0'. Der Name wird auch angezeigt, wenn wir die Maus über die Box\n",
    "bewegen.\n",
    "\n",
    "Die 0 erscheint, weil Pandas intern 0 als Standardnamen verwendet, wenn kein\n",
    "Name angegeben wurde. Wir können der Spalte aber auch einen eigenen Namen geben.\n",
    "Am einfachsten funktioniert das direkt bei der Erzeugung, indem der Parameter\n",
    "`name=` gesetzt wird."
   ]
  },
  {
   "cell_type": "code",
   "execution_count": null,
   "id": "b1463bdc",
   "metadata": {},
   "outputs": [],
   "source": [
    "preise_mit_name = pd.Series(preisliste, index=[\n",
    "  'Audi Nr. 1', 'Audi Nr. 2', 'Audi Nr. 3',\n",
    "  'BMW Nr. 1', 'BMW Nr. 2', \n",
    "  'Citroen Nr. 1', 'Citroen Nr. 2', 'Citroen Nr. 3', 'Citroen Nr. 4', 'Citroen Nr. 5'\n",
    "  ],\n",
    "  name='Liste von Autoscout24')\n",
    "\n",
    "print(preise_mit_name)"
   ]
  },
  {
   "cell_type": "markdown",
   "id": "056ba1d0",
   "metadata": {},
   "source": [
    "Der neue Name 'Liste von Autoscout24' wird zusätzlich zur Information\n",
    "'dtype' angezeigt. Erstellen wir nun den Boxplot mit diesem benannten\n",
    "Series-Objekt:"
   ]
  },
  {
   "cell_type": "code",
   "execution_count": null,
   "id": "d053c3fc",
   "metadata": {},
   "outputs": [],
   "source": [
    "diagramm = px.box(preise_mit_name)\n",
    "diagramm.show()"
   ]
  },
  {
   "cell_type": "markdown",
   "id": "6b5269b0",
   "metadata": {},
   "source": [
    "Sollen nun auch noch die Achsenbeschriftungen geändert werden, müssen wir die\n",
    "automatisch gesetzten Beschriftungen durch neue Namen ersetzt werden. Dazu wird\n",
    "ein Dictionary konfiguriert und dem optionalen Argument `labels=` übergeben. Das\n",
    "Dictionary wird mit geschweiften Klammern erzeugt. Die Schlüssel vor dem\n",
    "Doppelpunkt sind die alten Beschriftungen, die Werte nach dem Doppelpunkt die\n",
    "neuen.\n",
    "\n",
    "Da wir weiterhin den Variablennamen `diagramm` nutzen, wird das Diagramm aus der\n",
    "vorherigen Code-Zelle überschrieben."
   ]
  },
  {
   "cell_type": "code",
   "execution_count": null,
   "id": "99f60552",
   "metadata": {},
   "outputs": [],
   "source": [
    "diagramm = px.box(preise_mit_name,\n",
    "                  labels={'variable': 'Name des Datensatzes', 'value': 'Verkaufspreis [EUR]'})\n",
    "diagramm.show()"
   ]
  },
  {
   "cell_type": "markdown",
   "id": "7f582846",
   "metadata": {},
   "source": [
    "Fehlt noch eine Überschrift, ein Titel. Wie das englische Wort 'title' heißt\n",
    "auch das entsprechende Schlüsselwort zum Erzeugen eines Titels, nämlich\n",
    "`title=`."
   ]
  },
  {
   "cell_type": "code",
   "execution_count": null,
   "id": "6506656a",
   "metadata": {},
   "outputs": [],
   "source": [
    "diagramm = px.box(preise_mit_name,\n",
    "                  labels={'variable': 'Name des Datensatzes', 'value': 'Verkaufspreis [EUR]'},\n",
    "                  title='Statistische Kennzahlen als Boxplot')\n",
    "diagramm.show()"
   ]
  },
  {
   "cell_type": "markdown",
   "id": "10ca1d08",
   "metadata": {},
   "source": [
    "## Datenpunkte im Boxplot anzeigen\n",
    "\n",
    "Oft ist es wünschenswert die Rohdaten zusammen mit dem Boxplot zu visualisieren.\n",
    "Das ist mit dem `points=`-Parameter recht einfach, jedoch haben wir zwei mögliche\n",
    "Optionen. Wir können mit `'all'` alle Punkte anzeigen lassen oder nur die\n",
    "Ausreißer (`'outliers'`).\n",
    "\n",
    "Lassen wir zuerst alle Punkte anzeigen und setzen also `points='all'`."
   ]
  },
  {
   "cell_type": "code",
   "execution_count": null,
   "id": "05a8780c",
   "metadata": {},
   "outputs": [],
   "source": [
    "diagramm = px.box(preise_mit_name,\n",
    "                  labels={'variable': 'Name des Datensatzes', 'value': 'Verkaufspreis [EUR]'},\n",
    "                  points='all')\n",
    "diagramm.show()"
   ]
  },
  {
   "cell_type": "markdown",
   "id": "b319e0dd",
   "metadata": {},
   "source": [
    "Die Punkte werden links vom Boxplot platziert. Als nächstes lassen wir uns die\n",
    "Ausreißer anzeigen."
   ]
  },
  {
   "cell_type": "code",
   "execution_count": null,
   "id": "52a0e682",
   "metadata": {},
   "outputs": [],
   "source": [
    "diagramm = px.box(preise_mit_name,\n",
    "                  labels={'variable': 'Name des Datensatzes', 'value': 'Verkaufspreis [EUR]'},\n",
    "                  points='outliers')\n",
    "diagramm.show()"
   ]
  },
  {
   "cell_type": "markdown",
   "id": "33b8256d",
   "metadata": {},
   "source": [
    "Es sind keine Punkte zu sehen, was ist falsch? Nun, um das zu klären, müssen wir\n",
    "erst einmal definieren, was ein Ausreißer ist.\n",
    "\n",
    "## Ausreißer berechnen und visualisieren\n",
    "\n",
    "Die Box im Boxplot enthält 50 % aller Datenpunkte, denn sie ist durch das untere\n",
    "Quartil Q1 und das obere Quartil Q3 begrenzt. Die Differenz zwischen Q1 und Q3,\n",
    "also IQR = Q3 - Q1, wird **Interquartilsabstand** (manchmal auch kurz\n",
    "Quartilsabstand) genannt und mit **IQR** (englisch für Interquartile Range)\n",
    "abgekürzt. In der Statistik werden Punkte als Ausreißer angesehen, die kleiner\n",
    "als Q1 - 1.5 IQR oder größer als Q3 + 1.5 IQR sind. Dabei ist die Wahl des\n",
    "Faktors 1.5 eine statistische Konvention, die sich in der Praxis bewährt hat.\n",
    "\n",
    "In unserem Beispiel mit den Autopreisen kommen keine Ausreißer vor, weil Minimum\n",
    "und Maximum noch innerhalb dieses Bereichs liegen. Wir fügen daher noch ein\n",
    "neues, teureres Auto ein. Jetzt sehen wir einen Ausreißer."
   ]
  },
  {
   "cell_type": "code",
   "execution_count": null,
   "id": "4db3d714",
   "metadata": {},
   "outputs": [],
   "source": [
    "preise_mit_name['BMW Nr. 3'] = 62999\n",
    "diagramm = px.box(preise_mit_name, \n",
    "              labels={'variable': 'Name des Datensatzes', 'value': 'Verkaufspreis [EUR]'},\n",
    "              points='outliers')\n",
    "diagramm.show()"
   ]
  },
  {
   "cell_type": "markdown",
   "id": "3eb8476b",
   "metadata": {},
   "source": [
    "Wir beenden dieses Kapitel mit einer Mini-Übung.\n",
    "\n",
    "**Mini-Übung**\n",
    "Erstellen Sie einen Boxplot mit folgenden Eigenschaften:\n",
    "\n",
    "1. Benennen Sie das Series-Objekt mit dem Namen \"Gebrauchtwagen\"\n",
    "2. Beschriften Sie die y-Achse mit \"Preis [EUR]\"\n",
    "3. Fügen Sie den Titel \"Gebrauchtwagen-Analyse\" hinzu\n",
    "4. Zeigen Sie alle Datenpunkte an\n",
    "\n",
    "*Zusatzfrage:* Welche Autos liegen preislich am weitesten auseinander?"
   ]
  },
  {
   "cell_type": "code",
   "execution_count": null,
   "id": "8d4e2217",
   "metadata": {},
   "outputs": [],
   "source": [
    "# Hier Ihr Code"
   ]
  },
  {
   "cell_type": "markdown",
   "id": "05150ea8",
   "metadata": {},
   "source": [
    "## Zusammenfassung und Ausblick\n",
    "\n",
    "Der Boxplot ermöglicht eine einfache Visualisierung der wichtigsten\n",
    "statistischen Kennzahlen eines Datensatzes. Seine Stärke zeigt sich besonders,\n",
    "sobald mehrere Datensätze miteinander verglichen werden sollen. Daher werden wir\n",
    "im nächsten Kapitel uns mit Tabellen beschäftigen."
   ]
  }
 ],
 "metadata": {
  "jupytext": {
   "formats": "ipynb"
  },
  "kernelspec": {
   "display_name": "Python 3",
   "language": "python",
   "name": "python3"
  }
 },
 "nbformat": 4,
 "nbformat_minor": 5
}
