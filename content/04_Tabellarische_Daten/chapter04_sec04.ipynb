{
 "cells": [
  {
   "cell_type": "markdown",
   "id": "a479c4b9",
   "metadata": {},
   "source": [
    "# Übungen\n",
    "\n",
    "Daten für die Übungen:\n",
    "\n",
    "* [12612-0001_de.csv](https://nextcloud.frankfurt-university.de/s/ddfDzAAnJtJ4FZQ)\n",
    "* [stromverbrauch_hessen.csv](https://nextcloud.frankfurt-university.de/s/bpZ8TZrzafKqAxq)\n",
    "\n",
    "## Übung 4.1 - Teilaufgabe a)\n",
    "\n",
    "Schauen Sie sich die csv-Datei '12612-0001_de.csv' im Texteditor an. Der\n",
    "Datensatz enthält die Lebendgeburten in Deutschland getrennt nach männlich,\n",
    "weiblich und insgesamt (Quelle: [Statistisches\n",
    "Bundesamt](https://www-genesis.destatis.de/datenbank/beta/statistic/12612/table/12612-0001)).\n",
    "\n",
    "Ab welcher Zeile beginnen die Daten und in welcher Zeile enden sie? Importieren\n",
    "Sie dann die Daten, wobei Kopf- und Fußzeilen beim Import übersprungen werden\n",
    "sollen. Schlagen Sie dazu in der Dokumentation nach, wie Zeilen beim Lesen einer\n",
    "csv-Datei Übersprungen werden.\n",
    "\n",
    "Tipp: Importieren Sie pandas mit dem üblichen Alias pd und führen Sie dann die\n",
    "folgende Code-Zeile in einer Code-Zelle aus:\n",
    "\n",
    "```none\n",
    "pd.read_csv?\n",
    "```\n",
    "\n",
    "Welches Argument könnte für das Überspringen der Kopfzeilen stehen, welches für\n",
    "die Fußzeilen?\n",
    "\n",
    "Welche Spalte ist als Index-Spalte geeignet? Setzen Sie eine passende\n",
    "Spalte als Index. Verschaffen Sie sich einen Überblick über die Daten und\n",
    "erstellen Sie eine Übersicht der statistischen Kennzahlen."
   ]
  },
  {
   "cell_type": "code",
   "execution_count": null,
   "id": "d205bd79",
   "metadata": {},
   "outputs": [],
   "source": [
    "# Code-Zelle"
   ]
  },
  {
   "cell_type": "markdown",
   "id": "c01d2b0c",
   "metadata": {},
   "source": [
    "## Übung 4.1 - Teilaufgabe b)\n",
    "\n",
    "Kontrollieren Sie, ob die Spalte 'insgesamt' tatsächlich die Summe der beiden\n",
    "Spalten 'männlich' und 'weiblich' ist. Bilden Sie dazu die Differenz 'insgesamt' -\n",
    "'männlich' - 'weiblich' und fügen Sie diese Differenz als neue Spalte dem\n",
    "DataFrame hinzu. Wie lauten die statistischen Kennzahlen dieser Spalte? Welchen\n",
    "Schluss ziehen Sie daraus? Haben Sie eine Vermutung, was passiert ist?"
   ]
  },
  {
   "cell_type": "code",
   "execution_count": null,
   "id": "cf376332",
   "metadata": {},
   "outputs": [],
   "source": [
    "# Code-Zelle"
   ]
  },
  {
   "cell_type": "markdown",
   "id": "f944a10b",
   "metadata": {},
   "source": [
    "## Übung 4.1 - Teilaufgabe c)\n",
    "\n",
    "Lassen Sie die statistischen Kennzahlen der Lebendgeburten 'männlich' und\n",
    "'weiblich' als Boxplot visualisieren. Wurden mehr Jungen oder Mädchen geboren?\n",
    "Liegt der Median mittig zwischen Q1 und Q3?"
   ]
  },
  {
   "cell_type": "code",
   "execution_count": null,
   "id": "08f4c60d",
   "metadata": {},
   "outputs": [],
   "source": [
    "# Code-Zelle"
   ]
  },
  {
   "cell_type": "markdown",
   "id": "4869b9ee",
   "metadata": {},
   "source": [
    "## Übung 4.1 - Teilaufgabe d)\n",
    "\n",
    "Visualisieren Sie die Anzahl der männlichen und weiblichen Lebendgeburten pro\n",
    "Jahr als Scatterplot. Beschriften Sie auch die Achsen und setzen Sie einen\n",
    "Titel."
   ]
  },
  {
   "cell_type": "code",
   "execution_count": null,
   "id": "e4ea6f1e",
   "metadata": {},
   "outputs": [],
   "source": [
    "# Code-Zelle"
   ]
  },
  {
   "cell_type": "markdown",
   "id": "47d40e66",
   "metadata": {},
   "source": [
    "## Übung 4.2 - Teilaufgabe a)\n",
    "\n",
    "Schauen Sie sich die csv-Datei 'stromverbrauch_hessen.csv' im Texteditor an.\n",
    "Welche Daten enthält die Datei? Ab welcher Zeile beginnen die Daten und in\n",
    "welcher Zeile enden sie? Importieren Sie dann die Daten, wobei Kopf- und\n",
    "Fußzeilen beim Import übersprungen werden sollen. Welche Spalte ist als\n",
    "Index-Spalte geeignet? Setzen Sie eine passende Spalte als Index. Verschaffen\n",
    "Sie sich einen Überblick über die Daten und erstellen Sie eine Übersicht der\n",
    "statistischen Kennzahlen. Interpretieren Sie den Stromverbrauch der\n",
    "Verbrauchergruppen."
   ]
  },
  {
   "cell_type": "code",
   "execution_count": null,
   "id": "730b8f81",
   "metadata": {},
   "outputs": [],
   "source": [
    "# Code-Zelle"
   ]
  },
  {
   "cell_type": "markdown",
   "id": "762612b7",
   "metadata": {},
   "source": [
    "## Übung 4.2 - Teilaufgabe b)\n",
    "\n",
    "Checken Sie, ob die Spalte 'insgesamt' tatsächlich die Summe der anderen Spalten ist."
   ]
  },
  {
   "cell_type": "code",
   "execution_count": null,
   "id": "cd522243",
   "metadata": {},
   "outputs": [],
   "source": [
    "# Code-Zelle"
   ]
  },
  {
   "cell_type": "markdown",
   "id": "dd816806",
   "metadata": {},
   "source": [
    "## Übung 4.2 - Teilaufgabe c)\n",
    "\n",
    "Fertigen Sie Boxplots an und interpretieren Sie die statistischen Kennzahlen."
   ]
  },
  {
   "cell_type": "code",
   "execution_count": null,
   "id": "146aa4a3",
   "metadata": {},
   "outputs": [],
   "source": [
    "# Code-Zelle"
   ]
  },
  {
   "cell_type": "markdown",
   "id": "481df739",
   "metadata": {},
   "source": [
    "## Übung 4.2 - Teilaufgabe d)\n",
    "\n",
    "Visualisieren Sie den Stromverbrauch der drei relvanten Sektoren Industrie,\n",
    "Verkehr und Haushalte abhängig vom Jahr in einem gemeinsamen Scatterplot. Setzen\n",
    "Sie einen Titel und beschriften Sie auch die Achsen.\n",
    "\n",
    "Gibt es Auffälligkeiten?"
   ]
  },
  {
   "cell_type": "code",
   "execution_count": null,
   "id": "6e138d50",
   "metadata": {},
   "outputs": [],
   "source": [
    "# Code-Zelle"
   ]
  }
 ],
 "metadata": {
  "jupytext": {
   "formats": "ipynb"
  },
  "kernelspec": {
   "display_name": "Python 3",
   "language": "python",
   "name": "python3"
  }
 },
 "nbformat": 4,
 "nbformat_minor": 5
}
