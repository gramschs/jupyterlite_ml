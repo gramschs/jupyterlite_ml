{
 "cells": [
  {
   "cell_type": "markdown",
   "id": "2d6becec",
   "metadata": {},
   "source": [
    "# 4.2 Arbeiten mit Tabellendaten\n",
    "\n",
    "In Tabellenkalkulationssoftware ist es möglich, einzelne Zeilen oder Spalten zu\n",
    "bearbeiten. Pandas mit seiner Dantestruktur DataFrame bietet diese Möglichkeit\n",
    "ebenfalls. Wie auf einzelne Spalten und Zeilen zugegriffen wird und wie die\n",
    "Daten bearbeitet werden können, zeigt dieses Kapitel.\n",
    "\n",
    "## Lernziele\n",
    "\n",
    "* Sie können mit eckigen Klammern **[]** und dem Spaltenindex auf eine ganze\n",
    "  Spalte zugreifen.\n",
    "* Sie können mit **.loc[]** und dem Zeilenindex auf eine ganze Zeile zugreifen.\n",
    "* Sie können mit **.loc[zeileindex, spaltenindex]** auf eine einzelne Zelle der\n",
    "  Tabelle zugreifen.\n",
    "* Sie können mehrere unzusammenhängende Zeilen/Spalten mittels Liste auswählen.\n",
    "* Sie können zusammenhängende Bereich mittels **Slicing** auswählen.\n",
    "* Sie können eine Tabelle um eine Zeile oder Spalte erweitern.\n",
    "\n",
    "## Zugriff auf Spalten\n",
    "\n",
    "Bei einer Liste oder der Pandas-Datenstruktur Series haben wir auf ein einzelnes\n",
    "Element zugegriffen, indem wir eckige Klammern benutzt haben. Bei Tabellen und\n",
    "damit auch DataFrames ist es üblich, dass die Eigenschaften in den Spalten\n",
    "stehen und in den Zeilen die einzelnen Datensätze. Mit den eckigen Klammern und\n",
    "dem Indexnamen greifen wir diesmal also nicht nur ein Element heraus, sondern\n",
    "gleich eine ganze Spalte.\n",
    "\n",
    "Falls Sie aus dem vorherigen Kapitel den Datensatz {download}`Download\n",
    "autoscout24_xxs.csv\n",
    "<https://gramschs.github.io/book_ml4ing/data/autoscout24_xxs.csv>` noch geladen\n",
    "haben, können Sie sich mit `.info()` die Spaltenüberschriften, also den Index,\n",
    "direkt anzeigen lassen. Ansonsten importieren Sie zuerst Pandas mit seiner\n",
    "üblichen Abkürzung pd und laden den Datensatz."
   ]
  },
  {
   "cell_type": "code",
   "execution_count": null,
   "id": "6968cf55",
   "metadata": {},
   "outputs": [],
   "source": [
    "import pandas as pd\n",
    "tabelle = pd.read_csv('autoscout24_xxs.csv', index_col=0)\n",
    "tabelle.info()"
   ]
  },
  {
   "cell_type": "markdown",
   "id": "a09d39d7",
   "metadata": {},
   "source": [
    "Die Farbe der 10 Autos können wir folgendermaßen aus der Tabelle auswählen:"
   ]
  },
  {
   "cell_type": "code",
   "execution_count": null,
   "id": "8430464a",
   "metadata": {},
   "outputs": [],
   "source": [
    "farbe = tabelle['Farbe']"
   ]
  },
  {
   "cell_type": "markdown",
   "id": "56d723e8",
   "metadata": {},
   "source": [
    "Was steckt jetzt in der Variable `farbe`? Ermitteln wir zunächst, welchen\n",
    "Datentyp das Objekt hat, das in `farbe` gespeichert ist."
   ]
  },
  {
   "cell_type": "code",
   "execution_count": null,
   "id": "6cfd4981",
   "metadata": {},
   "outputs": [],
   "source": [
    "type(farbe)"
   ]
  },
  {
   "cell_type": "markdown",
   "id": "4abf1d71",
   "metadata": {},
   "source": [
    "Es ist ein Series-Objekt mit dem Namen Farbe, also dem Spaltenindex. Das neu\n",
    "erzeugte Series-Objekt kann also beispielsweise mit `.head()` angezeigt werden."
   ]
  },
  {
   "cell_type": "code",
   "execution_count": null,
   "id": "308e711a",
   "metadata": {},
   "outputs": [],
   "source": [
    "farbe.head()"
   ]
  },
  {
   "cell_type": "markdown",
   "id": "291bd307",
   "metadata": {},
   "source": [
    "Ein DataFrame besteht aus Series-Objekten.\n",
    "\n",
    "## Zugriff auf Zeilen\n",
    "\n",
    "Natürlich kann es auch Gründe geben, sich einen einzelnen Datensatz mit allen\n",
    "Eigenschaften herauszugreifen. Oder anders ausgedrückt, vielleicht möchte man in\n",
    "der Tabelle eine einzelne Zeile auswählen. Dazu gibt es das Attribut `.loc`.\n",
    "Danach werden wieder eckige Klammern benutzt, wobei diesmal der Zeilenindex\n",
    "verwendet wird.\n",
    "\n",
    "Der folgende Code-Schnippsel speichert die Zeile des 4. Autos (= BMW Nr. 1) in\n",
    "der Variable `viertes_auto` ab. Wir ermitteln gleich den Datentyp dazu."
   ]
  },
  {
   "cell_type": "code",
   "execution_count": null,
   "id": "5d0f4240",
   "metadata": {},
   "outputs": [],
   "source": [
    "viertes_auto = tabelle.loc['BMW Nr. 1']\n",
    "type(viertes_auto)"
   ]
  },
  {
   "cell_type": "markdown",
   "id": "ab2560f9",
   "metadata": {},
   "source": [
    "Auch eine einzelne Zeile ist eine Series-Datenstruktur, die wir mit den\n",
    "Series-Methoden weiter bearbeiten können. Der Name des Series-Objektes ist\n",
    "diesmal der alte Zeilenindex. Wir lassen den Datensatz mit `.head()` anzeigen."
   ]
  },
  {
   "cell_type": "code",
   "execution_count": null,
   "id": "ce0ad311",
   "metadata": {},
   "outputs": [],
   "source": [
    "viertes_auto.head()"
   ]
  },
  {
   "cell_type": "markdown",
   "id": "fa064afc",
   "metadata": {},
   "source": [
    "## Zugriff auf Zellen\n",
    "\n",
    "Es kann auch vorkommen, dass man gezielt auf eine einzelne Zelle zugreifen\n",
    "möchte. Auch dazu benutzen wir das Attribut `.loc[]`. Für eine einzelne Zelle\n",
    "müssen wir angeben, in welcher Zeile und in welcher Spalte sich diese Zelle\n",
    "befindet. Das Attribut `.loc[]` ermöglicht auch zwei Angaben, also Zeile und\n",
    "Spalte, indem beide Werte durch ein Komma getrennt werden.\n",
    "\n",
    "Wollen wir beispielsweise wissen, wann der Audi Nr. 3 zum zugelassen wurde, so\n",
    "gehen wir folgendermaßen vor:"
   ]
  },
  {
   "cell_type": "code",
   "execution_count": null,
   "id": "0a899dfb",
   "metadata": {},
   "outputs": [],
   "source": [
    "erstzulassung_audi3 = tabelle.loc['Audi Nr. 3', 'Erstzulassung']\n",
    "type(erstzulassung_audi3)"
   ]
  },
  {
   "cell_type": "markdown",
   "id": "e9d19f6e",
   "metadata": {},
   "source": [
    "Jetzt erhalten wir keine Series-Datenstruktur zurück, sondern den Datentyp des\n",
    "Elements in dieser Zelle. In unserem Beispiel ist die Erstzulassung als String\n",
    "gespeichert, den wir mit der print()-Funktion ausgeben lassen können:"
   ]
  },
  {
   "cell_type": "code",
   "execution_count": null,
   "id": "7158e25f",
   "metadata": {},
   "outputs": [],
   "source": [
    "print(erstzulassung_audi3 )"
   ]
  },
  {
   "cell_type": "markdown",
   "id": "e8a96ef7",
   "metadata": {},
   "source": [
    "Wir Menschen können diesen String natürlich interpretieren und sehen, dass der\n",
    "Audi Nr. 3 im November 2018 zum ersten Mal zugelassen wurde. Für Python ist es\n",
    "an dieser Stelle aber nicht möglich, eine korrekte Interpretation des Strings zu\n",
    "bieten.\n",
    "\n",
    "## Mehrere Zeilen oder Spalten\n",
    "\n",
    "Sollen mehrere Zeilen oder Spalten gleichzeitig ausgewählt werden, so werden die\n",
    "entsprechenden Indizes als eine Liste in die eckigen Klammern gesetzt.\n",
    "\n",
    "Der folgende Code wählt sowohl die Erstzulassung als auch den Preis aus."
   ]
  },
  {
   "cell_type": "code",
   "execution_count": null,
   "id": "b1ec72aa",
   "metadata": {},
   "outputs": [],
   "source": [
    "mehrere_spalten = tabelle[ ['Erstzulassung', 'Preis (Euro)'] ]\n",
    "mehrere_spalten.head()"
   ]
  },
  {
   "cell_type": "markdown",
   "id": "5c774e34",
   "metadata": {},
   "source": [
    "Wenn die Spalten oder Zeilen nacheinander kommen, also zusammenhängend sind,\n",
    "brauchen wir nicht alle Indizes in die Liste schreiben. Dann genügt es, den\n",
    "ersten Index und den letzten Index zu nehmen und dazwischen einen Doppelpunkt zu\n",
    "setzen. Diese Art, Zeilen oder Spalten auszuwählen, wird in der Informatik als\n",
    "**Slicing** bezeichnet. Alle Autos der Marke Citroën werden also folgendermaßen\n",
    "extrahiert:"
   ]
  },
  {
   "cell_type": "code",
   "execution_count": null,
   "id": "8c5eb373",
   "metadata": {},
   "outputs": [],
   "source": [
    "citroens = tabelle.loc[ 'Citroen Nr. 1' : 'Citroen Nr. 5'] \n",
    "citroens.head()"
   ]
  },
  {
   "cell_type": "markdown",
   "id": "ee39e09c",
   "metadata": {},
   "source": [
    "Jetzt kann beispielsweise der mittlere Verkaufspreis aller Citroëns\n",
    "folgendermaßen ermittelt werden:"
   ]
  },
  {
   "cell_type": "code",
   "execution_count": null,
   "id": "b6fe40ee",
   "metadata": {},
   "outputs": [],
   "source": [
    "mittelwert = citroens['Preis (Euro)'].mean()\n",
    "print(f'Der mittlere Verkaufspreis der Citroens ist {mittelwert:.2f} EUR.')"
   ]
  },
  {
   "cell_type": "markdown",
   "id": "e23f9648",
   "metadata": {},
   "source": [
    "Beim Slicing können wir den Angangsindex oder den Endindex oder sogar beides\n",
    "weglassen. Wenn wir den Anfangsindex weglassen, fängt Pandas bei der ersten\n",
    "Zeile/Spalte an. Lassen wir den Endindex weg, geht der Slice automatisch bis zum\n",
    "Ende.\n",
    "\n",
    "## Neue Spalte oder Zeile einfügen\n",
    "\n",
    "Eine neue Spalte einzufügen, funktioniert recht einfach. Dazu wird ein neuer\n",
    "Spaltenindex erzeugt."
   ]
  },
  {
   "cell_type": "code",
   "execution_count": null,
   "id": "95107172",
   "metadata": {},
   "outputs": [],
   "source": [
    "tabelle['Verbrauch pro Leistung'] = tabelle['Verbrauch (l/100 km)'] / tabelle['Leistung (PS)']\n",
    "tabelle.head(10)"
   ]
  },
  {
   "cell_type": "markdown",
   "id": "680ac81c",
   "metadata": {},
   "source": [
    "Nach demselben Prinzip können wir einen neuen Datensatz aufnehmen und eine neue\n",
    "Zeile einfügen. Da wir uns auf die Zeilen beziehen, verwenden wir wieder\n",
    "`loc[]`."
   ]
  },
  {
   "cell_type": "code",
   "execution_count": null,
   "id": "cfdcf74f",
   "metadata": {},
   "outputs": [],
   "source": [
    "tabelle.loc['Dacia Nr. 1'] = ['dacia', 'Dacia Duster', 'orange', '03/2023', 2023, 25749, 84, 114, 'Schaltgetriebe', 'Diesel', 5.3, 140, 5.0, 'Journey Blue dCi 115 4x4', 5.3/114] \n",
    "tabelle.head(11)"
   ]
  },
  {
   "cell_type": "markdown",
   "id": "3e9c2fd8",
   "metadata": {},
   "source": [
    "Das oben beschriebene Prinzip, eine neue Spalte oder eine neue Zeile einzufügen,\n",
    "indem ein neuer Spalten- oder Zeilenindex hinzugefügt wird, funktioniert nur,\n",
    "wenn die neuen Daten das richtige Format haben. Im Zweifelsfall sollte die\n",
    "Erweiterung eines DataFrames mit\n",
    "[concat](https://pandas.pydata.org/pandas-docs/stable/reference/api/pandas.concat.html?highlight=concat#pandas.concat)\n",
    "durchgeführt werden.\n",
    "\n",
    "## Zusammenfassung und Ausblick\n",
    "\n",
    "In diesem Kapitel haben wir uns damit beschäftigt, wie tabellarische Daten\n",
    "verwaltet werden. Im nächsten Kapitel geht es darum, diese zu visualisieren."
   ]
  }
 ],
 "metadata": {
  "jupytext": {
   "formats": "ipynb"
  },
  "kernelspec": {
   "display_name": "Python 3",
   "language": "python",
   "name": "python3"
  }
 },
 "nbformat": 4,
 "nbformat_minor": 5
}
