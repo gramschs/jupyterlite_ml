{
 "cells": [
  {
   "cell_type": "markdown",
   "id": "a6520e26",
   "metadata": {},
   "source": [
    "# 4.1 Datenstruktur DataFrame\n",
    "\n",
    "Bisher haben wir uns mit Datenreihen beschäftigt, sozusagen eindimensionalen\n",
    "Arrays. Das Modul Pandas stellt zur Verwaltung von Datenreihen die Datenstruktur\n",
    "Series zur Verfügung. In diesem Kapitel lernen wir die Datenstruktur\n",
    "**DataFrame** kennen, die die Verwaltung von tabellarischen Daten ermöglicht,\n",
    "also sozusagen zweidimensionalen Arrays.\n",
    "\n",
    "## Lernziele\n",
    "\n",
    "* Sie kennen die Datenstruktur **DataFrame**.\n",
    "* Sie kennen das **csv-Dateiformat**.\n",
    "* Sie können eine csv-Datei mit **read_csv()** einlesen.\n",
    "* Sie können die ersten Zeilen eines DataFrames mit **.head()** anzeigen lassen.\n",
    "* Sie konnen mit **.info()** sich einen Überblick über die importierten Daten\n",
    "  verschaffen.\n",
    "* Sie können mit **.describe()** die statistischen Kennzahlen ermitteln.\n",
    "\n",
    "## Was ist ein DataFrame?\n",
    "\n",
    "Bei Auswertung von Messungen ist der häufigste Fall der, dass Daten in Form\n",
    "einer Tabelle vorliegen. Ein DataFrame-Objekt entspricht einer Tabelle, wie man\n",
    "sie beispielsweise von Excel, LibreOffice oder Numbers kennt. Sowohl Zeile als\n",
    "auch Spalten sind indiziert. Typischerweise werden die Daten in der Tabelle\n",
    "zeilenweise angeordnet. Damit ist gemeint, dass jede Zeile einen Datensatz\n",
    "darstellt und die Spalten die Eigenschaften speichern.\n",
    "\n",
    "Ein DataFrame kann direkt über mehrere Pandas-Series-Objekte oder verschachtelte\n",
    "Listen erzeugt werden. Da es in der Praxis nur selten vorkommt und nur für sehr\n",
    "kleine Datenmengen praktikabel ist, Daten händisch zu erfassen, fokussieren wir\n",
    "gleich auf die Erzeugung von DataFrame-Objekten aus einer Datei.\n",
    "\n",
    "## Import von Tabellen mit .read_csv()\n",
    "\n",
    "Tabellen liegen werden oft in dem Dateiformat abgespeichert, das die jeweilige\n",
    "Tabellenkalkulationssoftware Excel, Numbers oder LibreOffice Calc als Standard\n",
    "eingestellt hat. Wir betrachten in dieser Vorlesung Tabellen, die in einem\n",
    "offenen Standardformat vorliegen und damit unabhängig von der verwendeten\n",
    "Software und dem verwendeten Betriebssystem sind.\n",
    "\n",
    "Das **Dateiformat CSV** speichert Daten zeilenweise ab. Dabei steht CSV für\n",
    "\"comma separated value\". Die Trennung der Spalten erfolgt durch ein\n",
    "Trennzeichen, normalerweise durch das Komma. Im deutschsprachigen Raum wird\n",
    "gelegentlich ein Semikolon verwendet, weil im deutschprachigen Raum das Komma\n",
    "als Dezimaltrennzeichen verwendet wird.\n",
    "\n",
    "Um Tabellen im csv-Format einzulesen, bietet Pandas eine eigene Funktion namens\n",
    "`read_csv` an (siehe [Dokumentation →\n",
    "read_csv](https://pandas.pydata.org/docs/reference/api/pandas.read_csv.html)).\n",
    "Wird diese Funktion verwendet, um die Daten zu importieren, so wird automatisch\n",
    "ein DataFrame-Objekt erzeugt. Beim Aufruf der Funktion wird mindestens der\n",
    "Dateiname übergeben. Zusäztliche Optionen können über optionale Argumente\n",
    "eingestellt werden. Beispielweise könnte auch das Semikolon als Trennzeichen\n",
    "eingestellt werden.\n",
    "\n",
    "Am besten sehen wir uns die Funktionsweise von `read_csv` an einem Beispiel an.\n",
    "Sollten Sie mit einem lokalen Jupyter Notebook arbeiten, laden Sie bitte die\n",
    "Datei {download}`Download autoscout24_xxs.csv\n",
    "<https://gramschs.github.io/book_ml4ing/data/autoscout24_xxs.csv>` herunter und\n",
    "speichern Sie sie in denselben Ordner, in dem auch dieses Jupyter Notebook\n",
    "liegt. Alternativ können Sie die csv-Datei auch über die URL importieren, wie es\n",
    "in der folgenden Code-Zelle gemacht wird. Die csv-Datei enthält die Angaben zu\n",
    "10 Autos, die auf [Autoscout24](https://www.autoscout24.de) zum Verkauf\n",
    "angeboten wurden.\n",
    "\n",
    "Führen Sie dann anschließend die folgende Code-Zelle aus."
   ]
  },
  {
   "cell_type": "code",
   "execution_count": null,
   "id": "6660b8e3",
   "metadata": {},
   "outputs": [],
   "source": [
    "import pandas as pd\n",
    "\n",
    "url = 'https://gramschs.github.io/book_ml4ing/data/autoscout24_xxs.csv'\n",
    "tabelle = pd.read_csv(url)"
   ]
  },
  {
   "cell_type": "markdown",
   "id": "caa5d612",
   "metadata": {},
   "source": [
    "Es erscheint keine Fehlermeldung, aber den Inhalt der geladenen Datei sehen wir\n",
    "trotzdem nicht. Dazu verwenden wir die Methode `.head()`.\n",
    "\n",
    "## Anzeige der ersten Zeilen mit .head()\n",
    "\n",
    "Probieren wir einfachmal aus, was die Anwendung der Methode `.head()` bewirkt."
   ]
  },
  {
   "cell_type": "code",
   "execution_count": null,
   "id": "3e5648eb",
   "metadata": {},
   "outputs": [],
   "source": [
    "tabelle.head()"
   ]
  },
  {
   "cell_type": "markdown",
   "id": "12c54d85",
   "metadata": {},
   "source": [
    "Die Methode `.head()` zeigt uns die ersten fünf Zeilen der Tabelle an. Wenn wir\n",
    "beispielsweise die ersten 10 Zeilen anzeigen lassen wollen, so verwenden wir die\n",
    "Methode .head() mit dem Argument 10, also `.head(10)`:"
   ]
  },
  {
   "cell_type": "code",
   "execution_count": null,
   "id": "b8d3bbc2",
   "metadata": {},
   "outputs": [],
   "source": [
    "tabelle.head(10)"
   ]
  },
  {
   "cell_type": "markdown",
   "id": "7b3b4795",
   "metadata": {},
   "source": [
    "Offensichtlich wurde beim Import der Daten wieder ein impliziter Index 0, 1, 2,\n",
    "usw. gesetzt. Das ist nicht weiter verwunderlich, denn Pandas kann nicht wissen,\n",
    "welche Spalte wir als Index vorgesehen haben. Und manchmal ist ein automatisch\n",
    "erzeugter impliziter Index auch nicht schlecht. In diesem Fall würden wir aber\n",
    "gerne als Zeilenindex die Auto-IDs verwenden. Daher modifizieren wir den Befehl\n",
    "read_csv mit dem optionalen Argument `index_col=`. Die Namen stehen in der 1.\n",
    "Spalte, was in Python-Zählweise einer 0 entspricht."
   ]
  },
  {
   "cell_type": "code",
   "execution_count": null,
   "id": "6d3a59d8",
   "metadata": {},
   "outputs": [],
   "source": [
    "tabelle = pd.read_csv('autoscout24_xxs.csv', index_col=0)\n",
    "tabelle.head(10)"
   ]
  },
  {
   "cell_type": "markdown",
   "id": "a98ac519",
   "metadata": {},
   "source": [
    "## Übersicht verschaffen mit .info()\n",
    "\n",
    "Das obige Beispiel zeigt uns zwar nun die ersten 10 Zeilen des importierten\n",
    "Datensatzes, aber wie viele Daten insgesamt enthalten sind, können wir mit der\n",
    "`.head()`-Methode nicht erfassen. Dafür stellt Pandas die Methode `.info()` zur\n",
    "Verfügung. Probieren wir es einfach aus."
   ]
  },
  {
   "cell_type": "code",
   "execution_count": null,
   "id": "3ca4e024",
   "metadata": {},
   "outputs": [],
   "source": [
    "tabelle.info()"
   ]
  },
  {
   "cell_type": "markdown",
   "id": "53eaed0e",
   "metadata": {},
   "source": [
    "Mit `.info()` erhalten wir eine Übersicht, wie viele Spalten es gibt und auch\n",
    "die Spaltenüberschriften werden aufgelistet.\n",
    "\n",
    "Weiterhin entnehmen wir der Ausgabe von `.info()`, dass in jeder Spalte 10\n",
    "Einträge sind, die 'non-null' sind. Damit ist gemeint, dass diese Zellen beim\n",
    "Import nicht leer waren. Zudem wird bei jeder Spalte noch der Datentyp\n",
    "angegeben. Für die Marke oder das Modell, die als Strings gespeichert sind, wird\n",
    "der allgemeine Datentyp 'object' angegeben. Beim Jahr oder dem Preis wurden\n",
    "korrektweise Integer erkannt. Der Verbrauch (Liter pro 100 Kilometer) wird als\n",
    "Float gespeichert.\n",
    "\n",
    "## Statistische Kennzahlen mit .describe()\n",
    "\n",
    "So wie die Methode `.info()` uns einen schnellen Überblick über die Daten eines\n",
    "DataFrame-Objektes gibt, so liefert die Methode `.describe()` eine schnelle\n",
    "Übersicht über statistische Kennzahlen."
   ]
  },
  {
   "cell_type": "code",
   "execution_count": null,
   "id": "0c50ef2b",
   "metadata": {},
   "outputs": [],
   "source": [
    "tabelle.describe()"
   ]
  },
  {
   "cell_type": "markdown",
   "id": "b5393983",
   "metadata": {},
   "source": [
    "Da es sich eingebürgert hat, Daten zeilenweise abzuspeichern und die Eigenschaft\n",
    "pro einzelnem Datensatz in den Spalten zu speichern, wertet `.describe()` jede\n",
    "Spalte für sich aus. Für jede Eigenschaft werden dann die statistischen\n",
    "Kennzahlen\n",
    "\n",
    "* count\n",
    "* mean\n",
    "* std\n",
    "* min\n",
    "* max\n",
    "* Quantile 25 %, 50 % und 75 %\n",
    "* max\n",
    "\n",
    "ausgegeben.\n",
    "\n",
    "Die Bedeutung der Kennzahlen wird in der\n",
    "[Dokumentation → describe()](https://pandas.pydata.org/docs/reference/api/pandas.DataFrame.describe.html)\n",
    "erläutert. Sie entsprechen den statistischen Kennzahlen, die die Methode\n",
    ".describe() für Series-Objekte liefert. Pandas hat hier auch auf den Datentyp\n",
    "reagiert. Nur für numerische Werte (Integer oder Float) wurden die statistischen\n",
    "Kennzahlen ermittelt.\n",
    "\n",
    "## Zusammenfassung und Ausblick\n",
    "\n",
    "Mit Hilfe der Datenstruktur DataFrame können tabellarische Daten verwaltet\n",
    "werden. In den nächsten Kapiteln werden wir uns damit beschäftigen, auf einzelne\n",
    "Spalten oder Zeilen zuzugreifen und die Datenpunkte als sogenannten Scatterplot\n",
    "zu visualisieren."
   ]
  }
 ],
 "metadata": {
  "jupytext": {
   "formats": "ipynb"
  },
  "kernelspec": {
   "display_name": "Python 3",
   "language": "python",
   "name": "python3"
  }
 },
 "nbformat": 4,
 "nbformat_minor": 5
}
