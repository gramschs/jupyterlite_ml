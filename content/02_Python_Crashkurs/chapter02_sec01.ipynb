{
 "cells": [
  {
   "cell_type": "markdown",
   "id": "0833aed9",
   "metadata": {},
   "source": [
    "# 2.1 Datentypen, Variablen und print()\n",
    "\n",
    "Beim maschinellen Lernen geht es um Daten und Algorithmen. Dabei können die\n",
    "Daten alles Mögliche umfassen, beispielsweise Zahlen oder Texte. Daher\n",
    "beschäftigen wir uns zuerst mit Datentypen. Dann geht es um Variablen und deren\n",
    "Ausgabe auf dem Bildschirm.\n",
    "\n",
    "## Lernziele\n",
    "\n",
    "* Sie kennen die einfachen Datentypen:\n",
    "    * **Integer**\n",
    "    * **Float**\n",
    "    * **String**\n",
    "* Sie wissen, was eine **Variable** ist und kennen den **Zuweisungsoperator**.\n",
    "* Sie können die **print()**-Funktion zur Ausgabe auf dem Bildschirm anwenden.\n",
    "\n",
    "## Einfache Datentypen\n",
    "\n",
    "Beim maschinellen Lernen geht es um die Sammlung, Erkundung und Analyse von\n",
    "Daten, um Antworten auf vorgegebene Fragen zu finden.  Der Computer kann\n",
    "Informationen aber nur als 0 und 1 verarbeiten. Auf dem Speichermedium oder im\n",
    "Speicher selbst werden Daten daher als eine Folge von 0 und 1 gespeichert. Damit\n",
    "es für uns Programmierinnen und Programmierer einfacher wird, Daten zu speichern\n",
    "und zu verarbeiten, wurden Datentypen eingeführt.  \n",
    "\n",
    "**Datentypen** fassen gleichartige Objekte zusammen und stellen den\n",
    "Programmiererinnen und Programmierern passende Operationen zur Verfügung. Mit\n",
    "Operationen sind die Aktionen gemeint, die mit diesen Datenobjekten durchgeführt\n",
    "werden dürfen. Zahlen dürfen beispielsweise addiert werden, Buchstaben aber\n",
    "nicht. Es hängt von der Programmiersprache ab, welche Datentypen zur Verfügung\n",
    "stehen, wie diese im Hintergrund gespeichert werden und welche Operationen\n",
    "möglich sind.\n",
    "\n",
    "In diesem Kapitel beschäftigen wir uns mit den einfachen Datentypen\n",
    "\n",
    "* Integer,\n",
    "* Float und\n",
    "* String.\n",
    "\n",
    "### Integer und Float\n",
    "\n",
    "In der Programmierung unterscheidet man grundsätzlich zwischen zwei Zahlenarten,\n",
    "den **ganzen Zahlen** und den Fließkommazahlen. In der Informatik wird jedoch\n",
    "der englische Begriff dafür verwendet: **Integer**.\n",
    "\n",
    "Mit Integern können wir ganz normal rechnen, also arithmetische Operationen\n",
    "ausführen:"
   ]
  },
  {
   "cell_type": "code",
   "execution_count": null,
   "id": "b426033b",
   "metadata": {},
   "outputs": [],
   "source": [
    "2+3"
   ]
  },
  {
   "cell_type": "code",
   "execution_count": null,
   "id": "782da45a",
   "metadata": {},
   "outputs": [],
   "source": [
    "2*3"
   ]
  },
  {
   "cell_type": "code",
   "execution_count": null,
   "id": "bfad921e",
   "metadata": {},
   "outputs": [],
   "source": [
    "6-7"
   ]
  },
  {
   "cell_type": "code",
   "execution_count": null,
   "id": "89123749",
   "metadata": {},
   "outputs": [],
   "source": [
    "3*(4+7)"
   ]
  },
  {
   "cell_type": "code",
   "execution_count": null,
   "id": "cf66c135",
   "metadata": {},
   "outputs": [],
   "source": [
    "25/5"
   ]
  },
  {
   "cell_type": "code",
   "execution_count": null,
   "id": "513de568",
   "metadata": {},
   "outputs": [],
   "source": [
    "4**2"
   ]
  },
  {
   "cell_type": "markdown",
   "id": "ad3d7475",
   "metadata": {},
   "source": [
    "Mit einer Operation verlassen wir aber bereits den Bereich der ganzen Zahlen,\n",
    "den Bereich der Integers. `25/5` ist wieder eine ganze Zahl, nicht jedoch\n",
    "`25/3`. Damit sind wir bei den Fließkommazahlen. Auch hier wird üblicherweise\n",
    "der englische Begriff **Float** für **Fließkommazahl** verwendet."
   ]
  },
  {
   "cell_type": "code",
   "execution_count": null,
   "id": "9042b73a",
   "metadata": {},
   "outputs": [],
   "source": [
    "2.3 + 4.5"
   ]
  },
  {
   "cell_type": "code",
   "execution_count": null,
   "id": "4640213d",
   "metadata": {},
   "outputs": [],
   "source": [
    "5.6 - 2.1"
   ]
  },
  {
   "cell_type": "code",
   "execution_count": null,
   "id": "04ae37e8",
   "metadata": {},
   "outputs": [],
   "source": [
    "2.1 * 3.5"
   ]
  },
  {
   "cell_type": "code",
   "execution_count": null,
   "id": "0bf91be3",
   "metadata": {},
   "outputs": [],
   "source": [
    "3.4 / 1.7"
   ]
  },
  {
   "cell_type": "code",
   "execution_count": null,
   "id": "4c64cc48",
   "metadata": {},
   "outputs": [],
   "source": [
    "3.4 ** 2"
   ]
  },
  {
   "cell_type": "code",
   "execution_count": null,
   "id": "52a50b75",
   "metadata": {},
   "outputs": [],
   "source": [
    "3.5 * (2.6 - 3.8 / 1.9)"
   ]
  },
  {
   "cell_type": "markdown",
   "id": "2a9b36c7",
   "metadata": {},
   "source": [
    ":class: warning\n",
    "Verwenden Sie stets einen Punkt als Dezimaltrennzeichen, nicht ein\n",
    "Komma!\n",
    "\n",
    "Das folgende Video gibt eine Einführung in das Thema »Zahlen mit Python«.\n",
    "\n",
    "```{dropdown} Video zu \"Zahlen in Python\" von Programmieren lernen\n",
    "<iframe width=\"560\" height=\"315\" src=\"https://www.youtube.com/embed/VtiDkRDPA_c\" \n",
    "title=\"YouTube video player\" frameborder=\"0\" allow=\"accelerometer; autoplay; \n",
    "clipboard-write; encrypted-media; gyroscope; picture-in-picture\" allowfullscreen>\n",
    "</iframe>\n",
    "```\n",
    "\n",
    "### String\n",
    "\n",
    "Daten sind aber sehr oft keine Zahlen. Beispielsweise könnte man sich\n",
    "vorstellen, eine Einkaufsliste zu erstellen und diese im Computer oder in einer\n",
    "Notiz-App auf dem Handy zu speichern. Eine solche **Zeichenkette** heißt in der\n",
    "Informatik **String**. Mit Zeichen meint man dabei Zahlen, Buchstaben oder\n",
    "andere Zeichen wie beispielsweise !\"§$%&/()=?.\n",
    "\n",
    "Strings werden in Python durch einfache Hochkomma oder Anführungszeichen\n",
    "definiert."
   ]
  },
  {
   "cell_type": "code",
   "execution_count": null,
   "id": "ba1d0086",
   "metadata": {},
   "outputs": [],
   "source": [
    "'Dies ist ein String!'"
   ]
  },
  {
   "cell_type": "markdown",
   "id": "b9af58ea",
   "metadata": {},
   "source": [
    "Mit Strings kann man ebenfalls \"rechnen\", nur ist das Ergebnis vielleicht anders\n",
    "als erwartet."
   ]
  },
  {
   "cell_type": "code",
   "execution_count": null,
   "id": "e1f413df",
   "metadata": {},
   "outputs": [],
   "source": [
    "2 * 'Dies ist ein String!'"
   ]
  },
  {
   "cell_type": "code",
   "execution_count": null,
   "id": "40345ddc",
   "metadata": {},
   "outputs": [],
   "source": [
    "'String 1 ' + 'String 2' "
   ]
  },
  {
   "cell_type": "markdown",
   "id": "693dc9d8",
   "metadata": {},
   "source": [
    "Das folgende Video gibt eine Einführung zum Thema »Strings in Python«.\n",
    "\n",
    "```{dropdown} Video zu \"Strings in Python\" von Programmieren lernen\n",
    "<iframe width=\"560\" height=\"315\" src=\"https://www.youtube.com/embed/sTEf4_mrLvw\" \n",
    "title=\"YouTube video player\" frameborder=\"0\" allow=\"accelerometer; autoplay; \n",
    "clipboard-write; encrypted-media; gyroscope; picture-in-picture\" allowfullscreen>\n",
    "</iframe>\n",
    "```\n",
    "\n",
    "## Variablen und Zuweisung\n",
    "\n",
    "**Variablen** sind beschriftete Schubladen. Oder anders formuliert sind\n",
    "Variablen Objekte, denen man einen Namen gibt. Technisch gesehen sind diese\n",
    "Schubladen ein kleiner Bereich im Arbeitsspeicher des Computers. Der Inhalt der\n",
    "Schubladen kann sehr unterschiedlich sein. Beispielsweise können in den\n",
    "Schubladen die Telefonnummer des ADAC-Pannendienstes, die 10. Nachkommastelle\n",
    "von $\\pi$ oder die aktuelle Position des Mauszeigers enthalten sein.\n",
    "\n",
    "### Zuweisungen sind keine Gleichungen\n",
    "\n",
    "Wir verwenden Variablen, um bestimmte Werte oder ein bestimmtes Objekt zu\n",
    "speichern. Eine Variable wird durch eine **Zuweisung** erzeugt. Damit meinen\n",
    "wir, dass eine Schublade angelegt wird und die Schublade dann erstmalig gefüllt\n",
    "wird. Das erstmalige Füllen der Schublade nennt man in der Informatik auch\n",
    "Initialisieren. Für die Zuweisung wird in Python das `=`-Zeichen verwendet."
   ]
  },
  {
   "cell_type": "code",
   "execution_count": null,
   "id": "ce39b175",
   "metadata": {},
   "outputs": [],
   "source": [
    "x = 0.5"
   ]
  },
  {
   "cell_type": "markdown",
   "id": "e42f2023",
   "metadata": {},
   "source": [
    "Sobald die Variable `x` in diesem Beispiel durch eine Zuweisung von 0.5 erstellt\n",
    "wurde, können wir sie verwenden:"
   ]
  },
  {
   "cell_type": "code",
   "execution_count": null,
   "id": "92d6aeb5",
   "metadata": {},
   "outputs": [],
   "source": [
    "x * 3"
   ]
  },
  {
   "cell_type": "code",
   "execution_count": null,
   "id": "a50b5dc7",
   "metadata": {},
   "outputs": [],
   "source": [
    "x + 17"
   ]
  },
  {
   "cell_type": "markdown",
   "id": "30b436cd",
   "metadata": {},
   "source": [
    "Wichtig ist, dass das `=` in der Informatik eine andere Bedeutung hat als in der\n",
    "Mathematik. `=` meint nicht das Gleichheitszeichen, sondern den sogenannten\n",
    "**Zuweisungsoperator**. Das ist in der Programmierung ein Kommando, das eine\n",
    "Schublade befüllt oder technischer ausgedrückt, ein Objekt einer Variable\n",
    "zuweist.\n",
    "\n",
    "Variablen müssen initalisiert (erstmalig mit einem Wert versehen) werden, bevor\n",
    "sie verwendet werden können, sonst tritt ein Fehler auf.\n",
    "\n",
    "**Mini-Übung**\n",
    "Fügen Sie eine Code-Zelle ein und schreiben Sie in die Code-Zelle einfach nur `n`. Lassen Sie die Code-Zelle ausführen. Was passiert?\n",
    "\n",
    "**Mini-Übung**\n",
    "Es erscheint eine Fehlermeldung, da eine Variable einen Wert haben muss, bevor\n",
    "sie das erste Mal benutzt wird.\n",
    "\n",
    "Sehr häufig findet man Code wie"
   ]
  },
  {
   "cell_type": "code",
   "execution_count": null,
   "id": "7bf030ea",
   "metadata": {},
   "outputs": [],
   "source": [
    "x = x + 1"
   ]
  },
  {
   "cell_type": "markdown",
   "id": "4e4688b4",
   "metadata": {},
   "source": [
    "Würden wir dies als Gleichung lesen, wie wir es aus der Mathematik gewohnt sind,\n",
    "x = x + 1, könnten wir x auf beiden Seiten subtrahieren und erhalten 0 = 1. Wir\n",
    "wissen, dass dies nicht wahr ist, also stimmt hier etwas nicht.\n",
    "\n",
    "In Python sind Gleichungen keine mathematischen Gleichungen, sondern\n",
    "Zuweisungen. \"=\" ist kein Gleichheitszeichen im mathematischen Sinne, sondern\n",
    "eine Zuweisung. Die Zuweisung muss immer in der folgenden Weise zweistufig\n",
    "gelesen werden:\n",
    "\n",
    "1. Berechne den Wert auf der rechten Seite (also x+1).\n",
    "2. Weise den Wert auf der rechten Seite dem auf der linken Seite stehenden\n",
    "   Variablennamen zu (in Python-Sprechweise: binde dem Namen auf der linken\n",
    "   Seite an das auf der rechten Seite angezeigte Objekt)."
   ]
  },
  {
   "cell_type": "code",
   "execution_count": null,
   "id": "20767c2a",
   "metadata": {},
   "outputs": [],
   "source": [
    "x = 4     \n",
    "x = x + 1\n",
    "x"
   ]
  },
  {
   "cell_type": "markdown",
   "id": "60043699",
   "metadata": {},
   "source": [
    "### Richtlinien für Variablennamen\n",
    "\n",
    "Früher war der Speicherplatz von Computern klein, daher wurden häufig nur kurze\n",
    "Variablennamen wie beispielsweise `i` oder `N` verwendet. Heutzutage ist es\n",
    "Standard, nur in Ausnahmefällen (z.B. in Schleifen, dazu kommen wir noch) kurze\n",
    "Variablennamen zu nehmen. Stattdessen werden Namen benutzt, bei denen man\n",
    "erraten kann, was die Variable für einen Einsatzzweck hat. Beispielsweise lässt\n",
    "der Code"
   ]
  },
  {
   "cell_type": "code",
   "execution_count": null,
   "id": "bf5479ac",
   "metadata": {},
   "outputs": [],
   "source": [
    "m = 0.19\n",
    "n = 80\n",
    "b = n + m*n\n",
    "b"
   ]
  },
  {
   "cell_type": "markdown",
   "id": "5baf180a",
   "metadata": {},
   "source": [
    "nur schwer vermuten, was damit bezweckt wird. Dagegen erahnt man bei diesem Code\n",
    "schon eher, was bezweckt wird:"
   ]
  },
  {
   "cell_type": "code",
   "execution_count": null,
   "id": "8ac3559f",
   "metadata": {},
   "outputs": [],
   "source": [
    "mehrwertsteuersatz = 19/100\n",
    "nettopreis = 80\n",
    "bruttopreis = nettopreis + mehrwertsteuersatz * nettopreis\n",
    "bruttopreis"
   ]
  },
  {
   "cell_type": "markdown",
   "id": "05fb8823",
   "metadata": {},
   "source": [
    "Code-Zellen zeigen arithmetische Operationen direkt nach Ausführen der\n",
    "Code-Zelle an. Wenn allerdings in der Code-Zelle mehrere Python-Anweisungen\n",
    "sind, müssen wir in die letzte Zeile nochmal die Variable selbst hinschreiben,\n",
    "deren Wert angezeigt werden soll. Das ist etwas umständlich und funktioniert\n",
    "auch nur mit Jupyter Notebooks. Normalerweise gibt es dazu eine Python-Funktion\n",
    "`print()`, auf die wir später noch zurückkommen.\n",
    "\n",
    "Verwenden Sie für Variablennamen nur ASCII-Zeichen, also keine Umlaute wie ö, ü\n",
    "oder ß. Python erlaubt es zwar, Umlaute in Variablennamen zu verwenden, es ist\n",
    "aber gute Praxis, dies nicht zu tun. Zahlen sind erlaubt, aber nicht am Anfang\n",
    "des Namens. Es ist sinnvoll, lange Variablen durch einen Unterstrich besser\n",
    "lesbar zu gestalten (sogenannte Snake-Case-Formatierung). Ich empfehle für\n",
    "Variablennamen beispielsweise\n",
    "\n",
    "`dateiname_alt` oder `dateiname_neu`\n",
    "\n",
    "wenn beispielsweise eine Datei umbenannt wird. Sie sind frei in der Gestaltung\n",
    "der Variablennamen, verboten sind nur die sogannnten Schlüsselwörter.\n",
    "\n",
    "Die folgenden beiden Videos fassen die beiden Themen Variablen und Zuweisungen\n",
    "nochmals zusammen.\n",
    "\n",
    "```{dropdown} Video zu \"Variablen in Python\" von Programmieren lernen\n",
    "<iframe width=\"560\" height=\"315\" src=\"https://www.youtube.com/embed/jfOLXKPGXJ0\" \n",
    "title=\"YouTube video player\" frameborder=\"0\" allow=\"accelerometer; autoplay; \n",
    "clipboard-write; encrypted-media; gyroscope; picture-in-picture\" allowfullscreen>\n",
    "</iframe>\n",
    "```\n",
    "\n",
    "```{dropdown} Video zu \"Zuweisungen in Python\" von Programmieren lernen\n",
    "<iframe width=\"560\" height=\"315\" src=\"https://www.youtube.com/embed/XKFQ2_et5k8\" \n",
    "title=\"YouTube video player\" frameborder=\"0\" allow=\"accelerometer; autoplay; \n",
    "clipboard-write; encrypted-media; gyroscope; picture-in-picture\" allowfullscreen>\n",
    "</iframe>\n",
    "```\n",
    "\n",
    "### Datentypen ermitteln mit type()\n",
    "\n",
    "Werden zwei Integer geteilt, so wird das Ergebnis automatisch in einen Float\n",
    "umgewandelt. Mit Hilfe der Funktion `type()` können wir den Python-Interpreter\n",
    "bestimmen lassen, welcher Datentyp in einer Variable gespeichert ist. Mit\n",
    "Funktion ist hier keine mathematische Funktion gemeint. Eine **Funktion** sind\n",
    "viele Anweisungen nacheinander, um eine bestimmte Teilaufgabe zu lösen. Damit\n",
    "klar ist, dass es sich um eine Funktion und nicht um eine Variable handelt,\n",
    "werden runde Klammern an den Namen der Funktion gehängt.\n",
    "\n",
    "In diesem Fall soll der Datentyp eines Objektes ermittelt werden. Damit der\n",
    "Python-Interpreter weiß, von welcher Variable der Datentyp ermittelt werden\n",
    "soll, schreiben wir die Variable in runde Klammern."
   ]
  },
  {
   "cell_type": "code",
   "execution_count": null,
   "id": "00bb5ce0",
   "metadata": {},
   "outputs": [],
   "source": [
    "x = 25 * 5\n",
    "type(x)"
   ]
  },
  {
   "cell_type": "code",
   "execution_count": null,
   "id": "9ee183b9",
   "metadata": {},
   "outputs": [],
   "source": [
    "x = 25 / 5\n",
    "type(x)"
   ]
  },
  {
   "cell_type": "markdown",
   "id": "cfdd32f4",
   "metadata": {},
   "source": [
    "Nicht immer ist es aber möglich, Datentypen zu mischen. Dann meldet Python einen\n",
    "Fehler.\n",
    "\n",
    "Das folgende Video fasst die Datentypen Integer, Float und String nochmal zusammen.\n",
    "\n",
    "```{dropdown} Video zu \"Datentypen in Python\" von Programmieren lernen\n",
    "<iframe width=\"560\" height=\"315\" src=\"https://www.youtube.com/embed/1WqFJ5wsA4o\" \n",
    "title=\"YouTube video player\" frameborder=\"0\" allow=\"accelerometer; autoplay; \n",
    "clipboard-write; encrypted-media; gyroscope; picture-in-picture\" allowfullscreen>\n",
    "</iframe>\n",
    "```\n",
    "\n",
    "## Ausgaben mit print()\n",
    "\n",
    "Jetzt lernen Sie eine weitere Python-Funktion kennen. Bei den obigen\n",
    "Rechenaufgaben wurde automatisch das Ergebnis der Rechnung angezeigt, sobald die\n",
    "Code-Zelle ausgeführt wurde. Dies ist eine Besonderheit der Jupyter Notebooks,\n",
    "würde aber in einem normalen Python-Programm nicht funktionieren. Auch möchte\n",
    "man vielleicht ein Zwischenergebnis anzeigen lassen. Die interaktive Ausgabe der\n",
    "Jupyter Notebooks zeigt jedoch immer nur den Inhalt der letzten Zeile an.\n",
    "\n",
    "Für die Anzeige von Rechenergebnissen oder Texten gibt es in Python die\n",
    "**print()**-Funktion. Die print()-Funktion in Python gibt den Wert am Bildschirm\n",
    "aus, der ihr als sogenanntes **Argument** in den runden Klammern übergeben wird.\n",
    "Das kann zum Beispiel eine Zahl oder eine Rechenaufgabe sein, wie in dem\n",
    "folgenden Beispiel."
   ]
  },
  {
   "cell_type": "code",
   "execution_count": null,
   "id": "02b0db09",
   "metadata": {},
   "outputs": [],
   "source": [
    "print(2)\n",
    "print(3+3)"
   ]
  },
  {
   "cell_type": "markdown",
   "id": "a687c46c",
   "metadata": {},
   "source": [
    "In der ersten Zeile ist das Argument für die print()-Funktion die Zahl 2. Das\n",
    "Argument wird in runde Klammern hinter den Funktionsnamen `print` geschrieben.\n",
    "Ein Argument ist sozusagen der Input, der an die print()-Funktion übergeben\n",
    "wird, damit der Python-Interpreter weiß, welcher Wert auf dem Bildschirm\n",
    "angezeigt werden soll.\n",
    "\n",
    "Das zweite Beispiel in der zweiten Zeile funktioniert genauso. Nur wird diesmal\n",
    "eine komplette Rechnung als Argument an die print()-Funktion übergeben. In dem\n",
    "Fall rechnet der Python-Interpreter erst den Wert der Rechnung, also `3+3=6` aus\n",
    "und übergibt dann die `6` an die print()-Funktion. Die print()-Funktion wiederum\n",
    "zeigt dann die `6` am Bildschirm an.\n",
    "\n",
    "**Mini-Übung**\n",
    "Lassen Sie Python den Term $3:4$ berechnen und geben Sie das Ergebnis mit der print()-Funktion aus."
   ]
  },
  {
   "cell_type": "code",
   "execution_count": null,
   "id": "e7fec1b3",
   "metadata": {},
   "outputs": [],
   "source": [
    "# Geben Sie nach diesem Kommentar Ihren Code ein:"
   ]
  },
  {
   "cell_type": "markdown",
   "id": "6055a936",
   "metadata": {},
   "source": [
    "Python kann mit der print()-Funktion jedoch nicht nur Zahlen ausgeben, sondern\n",
    "auch Texte, also Strings."
   ]
  },
  {
   "cell_type": "code",
   "execution_count": null,
   "id": "a91961e4",
   "metadata": {},
   "outputs": [],
   "source": [
    "print('Hallo')"
   ]
  },
  {
   "cell_type": "markdown",
   "id": "96872aea",
   "metadata": {},
   "source": [
    "**Mini-Übung**\n",
    "Probieren Sie aus was passiert, wenn Sie die einfachen Anführungszeichen `'`\n",
    "durch doppelte Anführungszeichen `\"` ersetzen. Lassen Sie den Text Hallo Welt\n",
    "ausgeben :-)"
   ]
  },
  {
   "cell_type": "code",
   "execution_count": null,
   "id": "8fac442e",
   "metadata": {},
   "outputs": [],
   "source": [
    "# Geben Sie nach diesem Kommentar Ihren Code ein:"
   ]
  },
  {
   "cell_type": "markdown",
   "id": "40005308",
   "metadata": {},
   "source": [
    "Zum Schluss behandeln wir noch formatierte Strings, die sogenannten f-Strings.\n",
    "Seit Python 3.6 erleichtert dieser Typ von String die Programmierung. Falls Sie\n",
    "Python-Code sehen, in dem Prozentzeichen vorkommen (ganz, ganz alt) oder die\n",
    "`.format()`-Methode benutzt wird, wundern Sie sich nicht. In dieser Vorlesung\n",
    "verwenden wir jedoch f-Strings.\n",
    "\n",
    "**f-Strings** sind die Abkürzung für \"formatted string literals\". Sie\n",
    "ermöglichen es, den Wert einer Variable oder einen Ausdruck direkt in den String\n",
    "einzubetten. Dazu werden geschweifte Klammern verwendet, also `{` und `}` und zu\n",
    "Beginn des Strings wird ein `f` eingefügt, um aus dem String einen f-String zu\n",
    "machen. Der Python-Interpreter fügt dann zur Laufzeit des Programms den\n",
    "entsprechenden Wert der Variable in den String ein.\n",
    "\n",
    "Hier ein Beispiel:"
   ]
  },
  {
   "cell_type": "code",
   "execution_count": null,
   "id": "eb0f57a4",
   "metadata": {},
   "outputs": [],
   "source": [
    "name = 'Alice'\n",
    "alter = 20\n",
    "print(f'Mein Name ist {name} und ich bin {alter} Jahre alt.')"
   ]
  },
  {
   "cell_type": "markdown",
   "id": "51f60f72",
   "metadata": {},
   "source": [
    "Insbesondere bei Ausgabe von Zahlen sind f-Strings besonders nützlich. Wenn nach\n",
    "dem Variablennamen ein Doppelpunkt eingefügt wird, kann danach die Anzahl der\n",
    "gewünschten Stellen vor dem Komma (hier natürlich ein Punkt) und der\n",
    "Nachkommastellen festgelegt werden. Zusätzlich setzen wir ein `f` in die\n",
    "geschweiften Klammern, um einen Float anzeigen zu lassen. Im folgenden Beispiel\n",
    "geben wir $\\pi$ auf zwei Nachkommastellen an."
   ]
  },
  {
   "cell_type": "code",
   "execution_count": null,
   "id": "8b3ed8ed",
   "metadata": {},
   "outputs": [],
   "source": [
    "pi = 3.141592653589793238462643383279\n",
    "print(f'Pi = {pi:1.2f}')"
   ]
  },
  {
   "cell_type": "markdown",
   "id": "8474719c",
   "metadata": {},
   "source": [
    "Es ist schwierig, sich alle Formatierungsoptionen zu merken. Auf der\n",
    "Internetseite\n",
    "[https://cheatography.com/brianallan/cheat-sheets/python-f-strings-basics/](https://cheatography.com/brianallan/cheat-sheets/python-f-strings-basics/)\n",
    "finden Sie eine umfangreiche Übersicht und können sich zudem ein pdf-Dokument\n",
    "herunterladen.\n",
    "\n",
    "**Mini-Übung**\n",
    "Schreiben Sie ein Programm, mit dem der Flächeninhalt eines Rechtecks berechnet werden soll. Die beiden Seitenlängen werden jeweils in den Variablen `laenge` und `breite` gespeichert (suchen Sie sich eigene Zahlen aus). Ausgegeben werden soll dann: \"Der Flächeninhalt eines Rechtecks mit den Seiten XX und XX ist XX.\", wobei XX durch die korrekten Zahlen ersetzt werden und der Flächeninhalt auf eine Nachkommastelle gerundet werden soll.\n",
    "\n",
    "\n",
    "## Zusammenfassung und Ausblick\n",
    "\n",
    "In diesem Kapitel haben wir gelernt, was ein Datentyp ist, wie eine Variable mit\n",
    "einem Wert gefüllt wird und mit der print()-Funktion am Bildschirm ausgegeben\n",
    "wird. Die einfachsten Datentypen Integer, Float und String reichen allerdings\n",
    "nicht aus, um z.B. die eine Adresse mit Straße (String), Hausnummer (Integer)\n",
    "und Postleitzahl (Integer) in einer Variablen gemeinsam zu speichern. Dazu\n",
    "lernen wir im nächsten Abschnitt den Datentyp Liste kennen."
   ]
  }
 ],
 "metadata": {
  "jupytext": {
   "formats": "ipynb,md:myst"
  },
  "kernelspec": {
   "display_name": "Python 3 (ipykernel)",
   "language": "python",
   "name": "python3"
  }
 },
 "nbformat": 4,
 "nbformat_minor": 5
}
