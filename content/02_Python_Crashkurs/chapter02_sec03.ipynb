{
 "cells": [
  {
   "cell_type": "markdown",
   "id": "3cc85cdc",
   "metadata": {},
   "source": [
    "# 2.3 Dictionaries, Funktionen und Methoden\n",
    "\n",
    "Sobald die Funktionalitäten komplexer werden, ist es wichtig zu verstehen, wie\n",
    "wir mit verschiedenen Datenstrukturen arbeiten und wie Code in Python\n",
    "organisiert ist. In diesem Kapitel lernen wir zunächst mit Dictionaries eine\n",
    "weitere wichtige Datenstruktur kennen. Anschließend vertiefen wir unser\n",
    "Verständnis von Funktionen und lernen das Konzept der objektorientierten\n",
    "Programmierung kennen. Funktionen, die direkt an einen Datentyp gekoppelt sind,\n",
    "werden **Methoden** genannt.\n",
    "\n",
    "## Lernziele\n",
    "\n",
    "* Sie kennen den Datentyp **Dictionary** und können Schlüssel-Wert-Paare\n",
    "erstellen und nutzen.\n",
    "* Sie verstehen, wie Funktionen aufgerufen werden und können mit Argumenten und\n",
    "Rückgabewerten arbeiten.\n",
    "* Sie wissen, was **Methoden** sind und kennen das **Konzept der\n",
    "objektorientierten Programmierung**.\n",
    "\n",
    "## Dictionaries\n",
    "\n",
    "Bisher haben wir Listen kennengelernt, um mehrere Daten zu sammeln. Listen haben\n",
    "jedoch einen Nachteil: Wir müssen uns merken, an welcher Position welche\n",
    "Information steht. Bei einer Liste `[7900, 200000, 190]` ist nicht sofort klar,\n",
    "was die einzelnen Zahlen bedeuten. Für solche Fälle gibt es eine Datenstruktur,\n",
    "die besser geeignet ist, das sogenannte **Dictionary**.\n",
    "\n",
    "Dictionaries (deutsch: Wörterbücher) speichern Daten in Form von\n",
    "Schlüssel-Wert-Paaren. Wir können uns ein Dictionary wie ein Wörterbuch\n",
    "vorstellen: Wir schlagen einen Begriff nach (das ist der Schlüssel) und erhalten\n",
    "die zugehörige Information (das ist der Wert). Im Gegensatz zu Listen, die über\n",
    "einen numerischen Index angesprochen werden, erfolgt der Zugriff bei\n",
    "Dictionaries über aussagekräftige Schlüssel.\n",
    "\n",
    "Ein Dictionary wird mit geschweiften Klammern `{}` erstellt. Die\n",
    "Schlüssel-Wert-Paare werden durch Doppelpunkte `:` getrennt, mehrere Paare durch\n",
    "Kommas `,`. Schauen wir uns dazu ein Beispiel an:"
   ]
  },
  {
   "cell_type": "code",
   "execution_count": null,
   "id": "3b76fc70",
   "metadata": {},
   "outputs": [],
   "source": [
    "person = {\n",
    "    \"name\": \"Alice\",\n",
    "    \"alter\": 25,\n",
    "    \"stadt\": \"Berlin\"\n",
    "}\n",
    "print(person)"
   ]
  },
  {
   "cell_type": "markdown",
   "id": "5e91b0e5",
   "metadata": {},
   "source": [
    "Der Zugriff auf einzelne Werte erfolgt über die Angabe des Schlüssels in eckigen\n",
    "Klammern:"
   ]
  },
  {
   "cell_type": "code",
   "execution_count": null,
   "id": "dd74ad5e",
   "metadata": {},
   "outputs": [],
   "source": [
    "print(f'Name: {person[\"name\"]}')\n",
    "print(f'Alter: {person[\"alter\"]}')\n",
    "print(f'Stadt: {person[\"stadt\"]}')"
   ]
  },
  {
   "cell_type": "markdown",
   "id": "3f16ceb2",
   "metadata": {},
   "source": [
    "Wir können auch Werte ändern oder neue Schlüssel-Wert-Paare hinzufügen:"
   ]
  },
  {
   "cell_type": "code",
   "execution_count": null,
   "id": "84e8b855",
   "metadata": {},
   "outputs": [],
   "source": [
    "# Wert ändern\n",
    "person[\"alter\"] = 26\n",
    "print(f'Neues Alter: {person[\"alter\"]}')\n",
    "\n",
    "# Neues Schlüssel-Wert-Paar hinzufügen\n",
    "person[\"beruf\"] = \"Datenwissenschaftlerin\"\n",
    "print(person)"
   ]
  },
  {
   "cell_type": "markdown",
   "id": "0ef83b67",
   "metadata": {},
   "source": [
    "Der Vorteil von Dictionaries gegenüber Listen wird besonders deutlich, wenn wir\n",
    "die beiden Datenstrukturen vergleichen. In einer Liste müssten wir uns merken,\n",
    "dass der Name an Position 0 steht, das Alter an Position 1 und so weiter. Bei\n",
    "einem Dictionary können wir direkt mit aussagekräftigen Begriffen arbeiten."
   ]
  },
  {
   "cell_type": "code",
   "execution_count": null,
   "id": "8bbeec90",
   "metadata": {},
   "outputs": [],
   "source": [
    "# Als Liste (unübersichtlich)\n",
    "person_liste = [\"Alice\", 25, \"Berlin\"]\n",
    "print(f'Name (Liste): {person_liste[0]}')  # Was bedeutet Index 0?\n",
    "\n",
    "# Als Dictionary (selbsterklärend)\n",
    "person_dict = {\"name\": \"Alice\", \"alter\": 25, \"stadt\": \"Berlin\"}\n",
    "print(f'Name (Dictionary): {person_dict[\"name\"]}')"
   ]
  },
  {
   "cell_type": "markdown",
   "id": "7f207762",
   "metadata": {},
   "source": [
    "**Mini-Übung**\n",
    "Erstellen Sie ein Dictionary für einen Datenpunkt mit folgenden Informationen:\n",
    "- temperatur: 23.5\n",
    "- luftfeuchtigkeit: 65\n",
    "- standort: \"Sensor_01\"\n",
    "\n",
    "Geben Sie dann die Temperatur und den Standort mit passenden Beschriftungen aus."
   ]
  },
  {
   "cell_type": "code",
   "execution_count": null,
   "id": "8641d80c",
   "metadata": {},
   "outputs": [],
   "source": [
    "# Hier Ihr Code:"
   ]
  },
  {
   "cell_type": "markdown",
   "id": "af8da05f",
   "metadata": {},
   "source": [
    "Dictionaries werden uns in späteren Kapiteln häufiger begegnen. Insbesondere bei\n",
    "der Visualisierung mit Plotly werden wir Dictionaries verwenden, um\n",
    "Konfigurationen für Diagramme zu definieren.\n",
    "\n",
    "## Funktionen\n",
    "\n",
    "Eine Funktion ist eine Zusammenfassung von Code, der eine bestimmte Teilaufgabe\n",
    "löst. Wir haben bereits verschiedene Funktionen kennengelernt und verwendet. Die\n",
    "Funktion `print()` gibt Text oder Werte auf dem Bildschirm aus. Die Funktion\n",
    "`len()` ermittelt die Länge einer Liste oder eines Strings. Die Funktion\n",
    "`type()` gibt uns den Datentyp einer Variable zurück.\n",
    "\n",
    "Eine Funktion wird aufgerufen, indem wir den Namen der Funktion hinschreiben und\n",
    "dann in runden Klammern ihre Argumente übergeben. Welche Argumente eine Funktion\n",
    "erwartet, hängt von der jeweiligen Funktion ab. Betrachten wir dazu einige\n",
    "Beispiele:"
   ]
  },
  {
   "cell_type": "code",
   "execution_count": null,
   "id": "72fb1336",
   "metadata": {},
   "outputs": [],
   "source": [
    "# len() mit verschiedenen Argumenten\n",
    "print(len('Hallo'))  # String als Argument\n",
    "print(len([1, 2, 3, 4, 8, 2]))  # Liste als Argument\n",
    "\n",
    "# type() ermittelt den Datentyp\n",
    "x = 42\n",
    "print(type(x))\n",
    "y = 3.14\n",
    "print(type(y))"
   ]
  },
  {
   "cell_type": "markdown",
   "id": "18924bad",
   "metadata": {},
   "source": [
    "Die meisten Funktionen geben ein Ergebnis zurück. Dieses können wir einer\n",
    "Variable zuweisen, um weiter damit zu arbeiten:"
   ]
  },
  {
   "cell_type": "code",
   "execution_count": null,
   "id": "8c6363ec",
   "metadata": {},
   "outputs": [],
   "source": [
    "wort = 'Maschinelles Lernen'\n",
    "anzahl_zeichen = len(wort)\n",
    "print(f'Der Text \"{wort}\" hat {anzahl_zeichen} Zeichen.')"
   ]
  },
  {
   "cell_type": "markdown",
   "id": "9cadc213",
   "metadata": {},
   "source": [
    "Beim maschinellen Lernen werden wir vor allem Funktionen aus Bibliotheken wie\n",
    "NumPy, Pandas und scikit-learn verwenden. Diese Funktionen sind bereits fertig\n",
    "implementiert und wir müssen nur wissen, wie wir sie aufrufen. Das Schreiben\n",
    "eigener Funktionen ist seltener nötig, weshalb wir uns darauf konzentrieren, wie\n",
    "wir bestehende Funktionen effektiv nutzen können.\n",
    "\n",
    "Falls Sie sich dafür interessieren, Funktionen selbst zu definieren, finden Sie\n",
    "in den drei folgenden Videos weitere Details zur Implementierung von Funktionen.\n",
    "\n",
    "```{dropdown} Video zu \"Funktionen selbst definieren\" von Programmieren lernen\n",
    "<iframe width=\"560\" height=\"315\" src=\"https://www.youtube.com/embed/LQCfN5HS9xI\" \n",
    "title=\"YouTube video player\" frameborder=\"0\" allow=\"accelerometer; autoplay; \n",
    "clipboard-write; encrypted-media; gyroscope; picture-in-picture\" allowfullscreen></iframe>\n",
    "```\n",
    "\n",
    "```{dropdown} Video zu \"Funktionen mit Parametern\" von Programmieren lernen\n",
    "<iframe width=\"560\" height=\"315\" src=\"https://www.youtube.com/embed/af9ORp1Pty0\" \n",
    "title=\"YouTube video player\" frameborder=\"0\" allow=\"accelerometer; autoplay;\n",
    "clipboard-write; encrypted-media; gyroscope; picture-in-picture\" allowfullscreen>\n",
    "</iframe>\n",
    "```\n",
    "\n",
    "```{dropdown} Video zu \"Funktionen mit Rückgabewert\" von Programmieren lernen\n",
    "<iframe width=\"560\" height=\"315\" src=\"https://www.youtube.com/embed/ehSP-sYoKCY\" \n",
    "title=\"YouTube video player\" frameborder=\"0\" allow=\"accelerometer; autoplay; \n",
    "clipboard-write; encrypted-media; gyroscope; picture-in-picture\" allowfullscreen>\n",
    "</iframe>\n",
    "```\n",
    "\n",
    "## Objektorientierte Programmierung\n",
    "\n",
    "Nachdem wir gesehen haben, wie Funktionen aufgerufen werden, schauen wir uns nun\n",
    "an, wie Python Funktionen und Daten in Objekten organisiert.\n",
    "\n",
    "Die Idee der objektorientierten Programmierung ist, Daten und die dazugehörigen\n",
    "Funktionen zusammenzufassen. Bisher haben wir Funktionen und Daten getrennt. Die\n",
    "Daten werden in Variablen gespeichert und Funktionen verarbeiten diese Daten\n",
    "nach dem EVA-Prinzip (Eingabe, Verarbeitung, Ausgabe). In der objektorientierten\n",
    "Programmierung werden Daten und Funktionen zu einem **Objekt** kombiniert. Die\n",
    "Eigenschaften eines Objekts werden **Attribute** genannt. Funktionen, die zu\n",
    "einem Objekt gehören, nennen wir **Methoden**.\n",
    "\n",
    "Tatsächlich haben wir bereits Methoden verwendet, ohne es explizit zu wissen.\n",
    "Listen sind Objekte und wenn wir `liste.append(4)` schreiben, rufen wir die\n",
    "Methode `.append()` des Listen-Objekts auf. Auch bei Dictionaries stehen\n",
    "Methoden wie `.keys()` oder `.values()` zur Verfügung, auch wenn wir diese\n",
    "bisher nicht verwendet haben."
   ]
  },
  {
   "cell_type": "code",
   "execution_count": null,
   "id": "a9b6728d",
   "metadata": {},
   "outputs": [],
   "source": [
    "meine_liste = [17, 3.5]\n",
    "meine_liste.append(4)\n",
    "print(meine_liste)"
   ]
  },
  {
   "cell_type": "markdown",
   "id": "9ad391ce",
   "metadata": {},
   "source": [
    "Sehen wir uns noch ein weiteres Beispiel an. Ein String ist in Python ein\n",
    "Objekt. Strings haben verschiedene Methoden, die uns die Arbeit erleichtern."
   ]
  },
  {
   "cell_type": "code",
   "execution_count": null,
   "id": "a7518235",
   "metadata": {},
   "outputs": [],
   "source": [
    "text = \"Hallo Welt\"\n",
    "\n",
    "# Methode upper(): wandelt alle Buchstaben in Großbuchstaben um\n",
    "text_gross = text.upper()\n",
    "print(text_gross)\n",
    "\n",
    "# Methode lower(): wandelt alle Buchstaben in Kleinbuchstaben um\n",
    "text_klein = text.lower()\n",
    "print(text_klein)\n",
    "\n",
    "# Methode replace(): ersetzt Teile des Strings\n",
    "text_neu = text.replace(\"Welt\", \"Python\")\n",
    "print(text_neu)"
   ]
  },
  {
   "cell_type": "markdown",
   "id": "86c3e85e",
   "metadata": {},
   "source": [
    "Das nächste Beispiel zeigt den Einsatz von Methoden bei Dictionaries:"
   ]
  },
  {
   "cell_type": "code",
   "execution_count": null,
   "id": "804a0c74",
   "metadata": {},
   "outputs": [],
   "source": [
    "# Dictionary-Methoden\n",
    "person = {\"name\": \"Alice\", \"alter\": 25}\n",
    "print(person.keys())    # dict_keys(['name', 'alter'])\n",
    "print(person.values())  # dict_values(['Alice', 25])"
   ]
  },
  {
   "cell_type": "markdown",
   "id": "4a590a14",
   "metadata": {},
   "source": [
    "Methoden werden also aufgerufen, indem wir die Variable (das Objekt)\n",
    "hinschreiben, dann einen Punkt setzen und dann den Methodennamen mit runden\n",
    "Klammern anfügen. Falls die Methode Argumente benötigt, werden diese in die\n",
    "runden Klammern geschrieben.\n",
    "\n",
    "In den kommenden Kapiteln werden wir viele Bibliotheken für maschinelles Lernen\n",
    "verwenden. Diese Bibliotheken arbeiten mit Objekten und Methoden. Beispielsweise\n",
    "werden wir später mit scikit-learn arbeiten. Dort erstellen wir ein\n",
    "Modell-Objekt und rufen dann Methoden wie `fit()` auf, um das Modell zu\n",
    "trainieren, oder `predict()`, um Vorhersagen zu machen. Das Prinzip ist immer\n",
    "das gleiche wie bei `liste.append()` oder `text.upper()`.\n",
    "\n",
    "Python ermöglicht es uns auch, eigene Objekte zu definieren. Dazu verwenden wir\n",
    "das Schlüsselwort `class`. In diesem Einführungskurs werden wir jedoch keine\n",
    "eigenen Klassen erstellen, sondern nur die Klassen und Methoden verwenden, die\n",
    "uns die verschiedenen Bibliotheken zur Verfügung stellen. Die folgenden Videos\n",
    "geben einen vertieften Einblick in die Objektorientierung mit Python für alle,\n",
    "die mehr darüber erfahren möchten.\n",
    "\n",
    "```{dropdown} Video zu \"Konzept der Objektorientierung\" von Programmieren lernen\n",
    "<iframe width=\"560\" height=\"315\" src=\"https://www.youtube.com/embed/46yolPy-2VQ\" \n",
    "title=\"YouTube video player\" frameborder=\"0\" allow=\"accelerometer; autoplay; \n",
    "clipboard-write; encrypted-media; gyroscope; picture-in-picture\" allowfullscreen>\n",
    "</iframe>\n",
    "```\n",
    "\n",
    "```{dropdown} Video zu \"Klassen und Objekte\" von Programmieren lernen\n",
    "<iframe width=\"560\" height=\"315\" src=\"https://www.youtube.com/embed/XxCZrT7Z3G4\" \n",
    "title=\"YouTube video player\" frameborder=\"0\" allow=\"accelerometer; autoplay; \n",
    "clipboard-write; encrypted-media; gyroscope; picture-in-picture\" allowfullscreen>\n",
    "</iframe>\n",
    "```\n",
    "\n",
    "```{dropdown} Video zu \"Der self Parameter\" von Programmieren lernen\n",
    "<iframe width=\"560\" height=\"315\" src=\"https://www.youtube.com/embed/CLoK-_qNTnU\" \n",
    "title=\"YouTube video player\" frameborder=\"0\" allow=\"accelerometer; autoplay; \n",
    "clipboard-write; encrypted-media; gyroscope; picture-in-picture\" allowfullscreen>\n",
    "</iframe>\n",
    "```\n",
    "\n",
    "```{dropdown} Video zu \"Methoden in Klassen\" von Programmieren lernen\n",
    "<iframe width=\"560\" height=\"315\" src=\"https://www.youtube.com/embed/58IjjwHs_4A\" \n",
    "title=\"YouTube video player\" frameborder=\"0\" allow=\"accelerometer; autoplay; \n",
    "clipboard-write; encrypted-media; gyroscope; picture-in-picture\" allowfullscreen>\n",
    "</iframe>\n",
    "```\n",
    "\n",
    "## Zusammenfassung und Ausblick\n",
    "\n",
    "In diesem Kapitel haben wir drei wichtige Konzepte kennengelernt. Zunächst haben\n",
    "wir mit Dictionaries eine Datenstruktur gesehen, die uns erlaubt, Daten über\n",
    "aussagekräftige Schlüssel statt über numerische Indizes anzusprechen.\n",
    "Anschließend haben wir vertieft, wie wir Funktionen aufrufen und mit ihren\n",
    "Rückgabewerten arbeiten. Zum Schluss haben wir einen ersten Einblick in die\n",
    "objektorientierte Programmierung erhalten und verstehen nun, was Methoden sind\n",
    "und wie sie sich von normalen Funktionen unterscheiden.\n",
    "\n",
    "Oft ist es aber praktischer, Funktionen und Klassen zu nutzen, die bereits\n",
    "implementiert sind, anstatt das Rad neu zu erfinden. Vor allem bei der\n",
    "Datenexploration und den maschinellen Lernalgorithmen werden wir die\n",
    "vorgefertigten Funktionsbausteine nutzen, wie wir in den nächsten Kapiteln sehen\n",
    "werden."
   ]
  }
 ],
 "metadata": {
  "jupytext": {
   "formats": "ipynb,md:myst"
  },
  "kernelspec": {
   "display_name": "Python 3 (ipykernel)",
   "language": "python",
   "name": "python3"
  }
 },
 "nbformat": 4,
 "nbformat_minor": 5
}
