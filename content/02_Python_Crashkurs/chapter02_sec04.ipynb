{
 "cells": [
  {
   "cell_type": "markdown",
   "id": "a652545a",
   "metadata": {},
   "source": [
    "# Übungen\n",
    "\n",
    "## Übung 2.1\n",
    "\n",
    "Welcher Datentyp liegt vor? Kopieren Sie diesen Text in eine Markdown-Zelle und\n",
    "schreiben Sie Ihre Antwort hinter den Pfeil.\n",
    "\n",
    "* 3 -->\n",
    "* -3 -->\n",
    "* 'drei'-->\n",
    "* 3.3 -->\n",
    "* 3,3 -->\n",
    "* 3**3 -->\n",
    "* 3**(1/3) -->\n",
    "\n",
    "Verwenden Sie anschließend `type()` in einer Code-Zelle, um Ihre Antwort zu\n",
    "überprüfen."
   ]
  },
  {
   "cell_type": "code",
   "execution_count": null,
   "id": "adc191df",
   "metadata": {},
   "outputs": [],
   "source": [
    "# Dies ist eine Code-Zelle."
   ]
  },
  {
   "cell_type": "markdown",
   "id": "9272a727",
   "metadata": {},
   "source": [
    "## Übung 2.2\n",
    "\n",
    "Schreiben Sie ein Programm, das die Zahlen von 5 bis 15 mit ihrem Quadrat\n",
    "ausgibt, also \"Das Quadrat von 5 ist 25.\" usw."
   ]
  },
  {
   "cell_type": "code",
   "execution_count": null,
   "id": "b1ead679",
   "metadata": {},
   "outputs": [],
   "source": [
    "# Dies ist eine Code-Zelle."
   ]
  },
  {
   "cell_type": "markdown",
   "id": "8283d5c4",
   "metadata": {},
   "source": [
    "## Übung 2.3\n",
    "\n",
    "Schreiben Sie eine For-Schleife, die die Brüche 1/7, 2/7, 3/7, bis 7/7 als\n",
    "Fließkommazahl gerundet auf 2 Nachkommastellen ausgibt. Beispielausgabe:\n",
    "\n",
    "```{code}\n",
    "1/7 = 0.14.\n",
    "2/7 = 0.29.\n",
    "3/7 = 0.43.\n",
    "4/7 = 0.57.\n",
    "5/7 = 0.71.\n",
    "6/7 = 0.86.\n",
    "7/7 = 1.00.\n",
    "```"
   ]
  },
  {
   "cell_type": "code",
   "execution_count": null,
   "id": "793f293c",
   "metadata": {},
   "outputs": [],
   "source": [
    "# Dies ist eine Code-Zelle."
   ]
  },
  {
   "cell_type": "markdown",
   "id": "727f9927",
   "metadata": {},
   "source": [
    "## Übung 2.4\n",
    "\n",
    "Schreiben Sie ein Programm, das eine Liste von Namen durchläuft und jede Person\n",
    "begrüßt. Wenn beispielsweise die Namen Alice, Bob und Charlie in der Liste\n",
    "stehen, lauten die Begrüßungen:\n",
    "\n",
    "```{code}\n",
    "Hallo, Alice!\n",
    "Hallo, Bob!\n",
    "Hallo, Charlie!\n",
    "```"
   ]
  },
  {
   "cell_type": "code",
   "execution_count": null,
   "id": "35ae65a4",
   "metadata": {},
   "outputs": [],
   "source": [
    "# Dies ist eine Code-Zelle."
   ]
  },
  {
   "cell_type": "markdown",
   "id": "aff9d65b",
   "metadata": {},
   "source": [
    "## Übung 2.5\n",
    "\n",
    "Erstellen Sie ein Dictionary für einen Studierenden mit folgenden Informationen:\n",
    "\n",
    "* vorname: \"Max\"\n",
    "* nachname: \"Mustermann\"\n",
    "* matrikelnummer: 123456\n",
    "* studiengang: \"Maschinenbau\"\n",
    "\n",
    "Geben Sie dann folgende Information aus: \"Max Mustermann (123456) studiert Maschinenbau.\""
   ]
  },
  {
   "cell_type": "code",
   "execution_count": null,
   "id": "661992d2",
   "metadata": {},
   "outputs": [],
   "source": [
    "# Dies ist eine Code-Zelle."
   ]
  },
  {
   "cell_type": "markdown",
   "id": "0212b1ec",
   "metadata": {},
   "source": [
    "## Übung 2.6\n",
    "\n",
    "Gegeben ist die Liste: `zahlen = [5, 12, 3, 8, 1]`\n",
    "\n",
    "1. Fügen Sie die Zahl 7 am Ende der Liste hinzu.\n",
    "2. Erstellen Sie einen String `text = \"Python Programmierung\"` und wandeln Sie ihn in Großbuchstaben um.\n",
    "3. Geben Sie beide Ergebnisse aus."
   ]
  },
  {
   "cell_type": "code",
   "execution_count": null,
   "id": "b168c678",
   "metadata": {},
   "outputs": [],
   "source": [
    "# Dies ist eine Code-Zelle."
   ]
  }
 ],
 "metadata": {
  "jupytext": {
   "formats": "ipynb,md:myst"
  },
  "kernelspec": {
   "display_name": "Python 3 (ipykernel)",
   "language": "python",
   "name": "python3"
  }
 },
 "nbformat": 4,
 "nbformat_minor": 5
}
