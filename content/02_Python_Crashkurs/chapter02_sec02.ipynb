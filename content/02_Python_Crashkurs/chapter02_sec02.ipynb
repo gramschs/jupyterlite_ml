{
 "cells": [
  {
   "cell_type": "markdown",
   "id": "598cb9a7",
   "metadata": {},
   "source": [
    "# 2.2 Listen und for-Schleifen\n",
    "\n",
    "Bisher haben wir drei verschiedene Datentypen kennengelernt:\n",
    "\n",
    "* Integer (ganze Zahlen),\n",
    "* Floats (Fließkommazahlen) und\n",
    "* Strings (Zeichenketten).\n",
    "\n",
    "Damit können wir einzelne Objekte der realen Welt ganz gut abbilden. Mit einem\n",
    "String können wir den Namen einer Person erfassen, mit einem Integer das Alter\n",
    "der Person und mit einem Float die Körpergröße der Person gemessen in Meter. Was\n",
    "uns aber bisher fehlt ist eine Sammlung von Namen oder eine Sammlung von\n",
    "Körpergrößen. Daher werden wir uns in diesem Kapitel mit dem Datentyp **Liste**\n",
    "beschäftigen.\n",
    "\n",
    "Oft kommt es vor, dass für jedes Element der Liste bestimmte Aktionen\n",
    "durchgeführt werden sollen. Daher werden wir uns auch mit der Wiederholung von\n",
    "Code-Abschnitten mittels der sogenannten **for-Schleife** beschäftigen.\n",
    "\n",
    "## Lernziele\n",
    "\n",
    "* Sie kennen den Datentyp **Liste**.\n",
    "* Sie können Listen mit eckigen Klammern erzeugen. \n",
    "* Sie können Listen mit dem **Plus-Operator** verketten und Elemente mit\n",
    "  **.append()** anhängen.\n",
    "* Sie können über den **Index** auf einzelne Listenelemente zugreifen. \n",
    "* Sie können eine **for-Schleife mit Liste** programmieren.\n",
    "* Sie wissen, wie die Fachbegriffe der einzelnen Bestandteile der Schleife\n",
    "  lauten:\n",
    "  * **Kopfzeile**, wird mit **Doppelpunkt :** abgeschlossen\n",
    "  * Schlüsselwörter **for** und **in**\n",
    "  * **Schleifenvariable**  \n",
    "* Sie wissen, dass der Anweisungsblock des Schleifeninneren eingerückt werden\n",
    "  muss. Die **Einrückung** muss immer mit der gleichen Anzahl von Zeichen\n",
    "  (Leerzeichen oder Tab) erfolgen.\n",
    "\n",
    "## Datentyp Liste\n",
    "\n",
    "Eine Liste ist eine Sammlung von Objekten. Dabei können die Objekte einen\n",
    "beliebigen Datentyp aufweisen. Eine Liste wird durch eckige Klammern erzeugt.\n",
    "\n",
    "Beispielsweise könnte eine Liste drei Integer enthalten:"
   ]
  },
  {
   "cell_type": "code",
   "execution_count": null,
   "id": "dacd19b9",
   "metadata": {},
   "outputs": [],
   "source": [
    "a = [34, 12, 54]\n",
    "print(a)"
   ]
  },
  {
   "cell_type": "markdown",
   "id": "b6eccd13",
   "metadata": {},
   "source": [
    "Das folgende Beispiel zeigt eine Liste mit vier Namen, die durch Strings\n",
    "repräsentiert werden:"
   ]
  },
  {
   "cell_type": "code",
   "execution_count": null,
   "id": "53bdb763",
   "metadata": {},
   "outputs": [],
   "source": [
    "a = ['Alice', 'Bob', 'Charlie', 'Dora']\n",
    "print(a)"
   ]
  },
  {
   "cell_type": "markdown",
   "id": "8c4ef641",
   "metadata": {},
   "source": [
    "Eine leere Liste wird durch `[]` definiert:"
   ]
  },
  {
   "cell_type": "code",
   "execution_count": null,
   "id": "7fc7c148",
   "metadata": {},
   "outputs": [],
   "source": [
    "a = []\n",
    "print(a)"
   ]
  },
  {
   "cell_type": "markdown",
   "id": "f9daafd8",
   "metadata": {},
   "source": [
    "Listen können gekürzt und erweitert werden. Eine sehr nützliche Funktion ist\n",
    "daher die `len()`-Funktion. Das `len` steht dabei für `length`. Wird die\n",
    "Funktion `len()` mit einer Liste (oder mit einem String) als Argument\n",
    "aufgerufen, gibt sie die Anzahl der Listenelemente (oder Anzahl der Zeichen im\n",
    "String) zurück."
   ]
  },
  {
   "cell_type": "code",
   "execution_count": null,
   "id": "db6de3c0",
   "metadata": {},
   "outputs": [],
   "source": [
    "a = ['Hund', 'Katze', 'Maus', 'Affe','Elefant']\n",
    "len(a)"
   ]
  },
  {
   "cell_type": "markdown",
   "id": "59fc1f5d",
   "metadata": {},
   "source": [
    "Listen müssen nicht nur Elemente eines Datentyps enthalten. In Python ist es\n",
    "erlaubt, in eine Liste Objekte mit verschiedenen Datentypen zu sammeln. Das\n",
    "folgende Beispiel zeigt eine Mischung aus Elementen der drei Datentypen Integer,\n",
    "Float und String."
   ]
  },
  {
   "cell_type": "code",
   "execution_count": null,
   "id": "6a6d62dd",
   "metadata": {},
   "outputs": [],
   "source": [
    "a = [123, 'Ente', -42, 17.4, 0, 'Elefant']\n",
    "print(a)"
   ]
  },
  {
   "cell_type": "markdown",
   "id": "4d034f5c",
   "metadata": {},
   "source": [
    "**Mini-Übung**\n",
    "Erzeugen Sie eine Einkaufsliste, um einen Obstsalat zuzubereiten und speichern\n",
    "Sie diese Liste in der Variablen `einkaufsliste`. Lassen Sie dann den Computer\n",
    "bzw. den Python-Interpreter zählen, wie viele Zutaten Ihre Liste enthält und\n",
    "geben Sie dann die Anzahl aus."
   ]
  },
  {
   "cell_type": "code",
   "execution_count": null,
   "id": "8d8cda6d",
   "metadata": {},
   "outputs": [],
   "source": [
    "# Hier Ihr Code:"
   ]
  },
  {
   "cell_type": "markdown",
   "id": "5e7241b2",
   "metadata": {},
   "source": [
    "## Listen bearbeiten\n",
    "\n",
    "Listen sind in Python veränderlich. Besonders häufig kommt es vor, dass zwei\n",
    "Listen zu einer neuen Liste kombiniert werden sollen. Da diese Aktion so wichtig\n",
    "ist, kann dies in Python direkt mit dem `+`-Operator erledigt werden. Der\n",
    "Fachbegriff für das Aneinanderhängen von Listen ist **Verkettung** oder auf\n",
    "Englisch **Concatenation**."
   ]
  },
  {
   "cell_type": "code",
   "execution_count": null,
   "id": "066c2271",
   "metadata": {},
   "outputs": [],
   "source": [
    "a = [37, 3, 5] + [3, 35, 100]\n",
    "print(a)"
   ]
  },
  {
   "cell_type": "markdown",
   "id": "018d0335",
   "metadata": {},
   "source": [
    "Um an das Ende der Liste ein neues Element einzufügen, verwendet man die Methode\n",
    "`append()`. Eine **Methode** ist eine spezielle Funktion, die zu dem Datentyp\n",
    "gehört und daher an die Variable angehängt wird, indem man einen Punkt schreibt\n",
    "und dann den Methodennamen."
   ]
  },
  {
   "cell_type": "code",
   "execution_count": null,
   "id": "968b6354",
   "metadata": {},
   "outputs": [],
   "source": [
    "a = [34, 56, 23]\n",
    "print(a)\n",
    "\n",
    "a.append(42)\n",
    "print(a)"
   ]
  },
  {
   "cell_type": "markdown",
   "id": "c7b34682",
   "metadata": {},
   "source": [
    "**Mini-Übung**\n",
    "Nehmen Sie Ihre Einkaufsliste für den Obstsalat von vorhin. Fügen Sie noch Zimt\n",
    "und Zucker hinzu und lassen Sie die Anzahl der Elemente ausgeben."
   ]
  },
  {
   "cell_type": "code",
   "execution_count": null,
   "id": "1eb38334",
   "metadata": {},
   "outputs": [],
   "source": [
    "# Hier Ihr Code:"
   ]
  },
  {
   "cell_type": "markdown",
   "id": "a7779aa5",
   "metadata": {},
   "source": [
    "```{dropdown} Video zu \"Listen in Python - Einführung\" von Programmieren lernen\n",
    "<iframe width=\"560\" height=\"315\" src=\"https://www.youtube.com/embed/ihF8bZoauBs\" \n",
    "title=\"YouTube video player\" frameborder=\"0\" allow=\"accelerometer; autoplay; \n",
    "clipboard-write; encrypted-media; gyroscope; picture-in-picture\" allowfullscreen>\n",
    "</iframe>\n",
    "```\n",
    "\n",
    "## Zugriff auf einzelne Listenelemente\n",
    "\n",
    "Listen sind in Python durchnummeriert, beginnend bei Index `0`. Die\n",
    "Positionsnummer eines Elements nennt man **Index**. Um auf ein einzelnes Element\n",
    "zuzugreifen, schreibt man `liste[i]`, wobei `i` der Index ist. Um einfach auf\n",
    "das letzte Element einer Liste zugreifen zu können, hat Python den Index -1\n",
    "eingeführt.\n",
    "\n",
    "Probieren wir ein Beispiel aus:"
   ]
  },
  {
   "cell_type": "code",
   "execution_count": null,
   "id": "cda5c9d3",
   "metadata": {},
   "outputs": [],
   "source": [
    "a = [34, 56, 23, 42]\n",
    "erstes = a[0]\n",
    "print(f'Das erste Element in der Liste ist: {erstes}')\n",
    "\n",
    "letztes = a[-1]\n",
    "print(f'Das letzte Element in der Liste ist: {letztes}')"
   ]
  },
  {
   "cell_type": "code",
   "execution_count": null,
   "id": "6d171876",
   "metadata": {},
   "outputs": [],
   "source": [
    "# Erzeugung Liste\n",
    "meine_liste = ['rot', 'grün', 'blau', 'gelb', 'weiß', 'schwarz']\n",
    "\n",
    "# das fünfte Element weiß wird durch lila ersetzt\n",
    "meine_liste[4] = 'lila'\n",
    "print(meine_liste)"
   ]
  },
  {
   "cell_type": "markdown",
   "id": "e258853f",
   "metadata": {},
   "source": [
    "Das Bearbeiten von einzelnen Listenelementen wird auch **Zugriff** genannt. Das\n",
    "folgende Video zeigt die Zugriffsmöglichkeiten von Listen.\n",
    "\n",
    "```{dropdown} Video zu \"Zugriff aus Listen\" von Programmieren lernen\n",
    "<iframe width=\"560\" height=\"315\" src=\"https://www.youtube.com/embed/_XzWPXvya2w\" \n",
    "title=\"YouTube video player\" frameborder=\"0\" allow=\"accelerometer; autoplay; \n",
    "clipboard-write; encrypted-media; gyroscope; picture-in-picture\" allowfullscreen>\n",
    "</iframe>\n",
    "```\n",
    "\n",
    "## Code wiederholen mit der for-Schleife\n",
    "\n",
    "Wenn wir mit jedem Element einer Liste etwas tun wollen, wäre es mühsam, jedes\n",
    "Element einzeln über seinen Index anzusprechen. Hierfür gibt es die\n",
    "**for-Schleife**."
   ]
  },
  {
   "cell_type": "code",
   "execution_count": null,
   "id": "b2233cb5",
   "metadata": {},
   "outputs": [],
   "source": [
    "for i in [2, 4, 6, 8, 10]:\n",
    "    print(i)"
   ]
  },
  {
   "cell_type": "markdown",
   "id": "eb87c370",
   "metadata": {},
   "source": [
    "Eine Schleife beginnt mit dem Schlüsselwort **for**. Danach kommt der Name der\n",
    "sogenannten **Schleifenvariable**, in diesem Fall also `i`. Als nächstes folgt\n",
    "wieder ein Schlüsselwort, nämlich **in** und zuletzt Liste. Diese Zeile nennt\n",
    "man **Kopfzeile**.\n",
    "\n",
    "Python muss wissen, welche Kommandos für jeden Schleifendurchgang ausgeführt\n",
    "werden sollen. Daher wird die Kopfzeile der Schleife mit einem Doppelpunkt `:`\n",
    "beendet. Danach werden alle Kommandos aufgelistet, die ausgeführt werden sollen.\n",
    "Damit Python weiß, wann es wieder mit dem normalen Programm weitergehen soll,\n",
    "müssen wir dem Python-Interpreter das Ende der Schleife signalisieren. In vielen\n",
    "Programmiersprachen wird das mit dem Schlüsselwort `end` gemacht oder es werden\n",
    "Klammern gesetzt. In Python wird stattdessen mit **Einrückung** gearbeitet. Alle\n",
    "Zeilen mit Anweisungen, die eingerückt sind, werden in der Schleife wiederholt.\n",
    "\n",
    "Wie sieht das nun bei unserem Beispiel aus? Die Schleifenvariable heißt `i`. Sie\n",
    "nimmt beim 1. Schleifendurchgang den Wert `2` an. Dann werden die Anweisungen im\n",
    "Schleifeninneren ausgeführt, also die print()-Funktion für `i = 2` angewendet\n",
    "und eine 2 ausgegeben. Dann wird die Schleife ein 2. Mal durchlaufen. Diesmal\n",
    "nimmt die Schleifenvariable `i` den Wert `4` an und die print()-Funktion gibt 4\n",
    "aus. Das geht so weiter bis zum 5. Schleifendurchgang, wo die Schleifenvariable\n",
    "den Wert `i = 10` annimmt und eine 10 auf dem Bildschirm angezeigt wird. Da die\n",
    "`10` das letzte Element der Liste war, macht der Python-Interpreter mit dem\n",
    "normalen Programm weiter. Bei unserem kurzen Beispiel ist aber schon das Ende\n",
    "des Programmes erreicht. Zusammengefasst, werden nacheinander die Elemente der\n",
    "Liste `[2, 4, 6, 8, 10]` auf dem Bildschirm ausgegeben.\n",
    "\n",
    "Schauen wir uns ein weiteres Beispiel an. Jedes Element der Liste\n",
    "`[4,5,7,11,21]` soll um 2 erhöht werden."
   ]
  },
  {
   "cell_type": "code",
   "execution_count": null,
   "id": "a589ba39",
   "metadata": {},
   "outputs": [],
   "source": [
    "for zahl in [4,5,7,11,21]:\n",
    "    ergebnis = zahl + 2\n",
    "    print(f'Wenn ich {zahl} + 2 rechne, erhalte ich {ergebnis}.')\n",
    "print('Ich bin fertig!')"
   ]
  },
  {
   "cell_type": "markdown",
   "id": "49562003",
   "metadata": {},
   "source": [
    "**Mini-Übung**\n",
    "Lassen Sie nacheinander die Zutaten Ihrer Einkaufsliste ausgeben."
   ]
  },
  {
   "cell_type": "code",
   "execution_count": null,
   "id": "778e316f",
   "metadata": {},
   "outputs": [],
   "source": [
    "# Hier Ihr Code:"
   ]
  },
  {
   "cell_type": "markdown",
   "id": "66c4c0bb",
   "metadata": {},
   "source": [
    "```{dropdown} Video zu \"Schleifen in Python: for-Schleife\" von Programmieren lernen\n",
    "<iframe width=\"560\" height=\"315\" src=\"https://www.youtube.com/embed/ISo1uqLcVw8\" \n",
    "title=\"YouTube video player\" frameborder=\"0\" allow=\"accelerometer; autoplay; \n",
    "clipboard-write; encrypted-media; gyroscope; picture-in-picture\" allowfullscreen>\n",
    "</iframe>\n",
    "```\n",
    "\n",
    "Es kommt sehr häufig vor, dass über Listen mit Zahlen iteriert werden soll.\n",
    "Dafür stellt Python3 die Funktion `range()` zur Verfügung. Das folgende\n",
    "Code-Fragment gibt beispielsweise die Zahlen von 0 bis 4 aus."
   ]
  },
  {
   "cell_type": "code",
   "execution_count": null,
   "id": "0a2d7dde",
   "metadata": {},
   "outputs": [],
   "source": [
    "# Zahlen von 0 bis 4 ausgeben\n",
    "for i in range(5):\n",
    "    print(i)"
   ]
  },
  {
   "cell_type": "markdown",
   "id": "fb84fedf",
   "metadata": {},
   "source": [
    "Mehr Details zu `range()` in Kombination mit einer for-Schleife finden Sie in\n",
    "dem folgenden Video.\n",
    "\n",
    "```{dropdown} Video zu \"for-Schleife in Python: Zählerschleife\"\n",
    "<iframe width=\"560\" height=\"315\" src=\"https://www.youtube.com/embed/pQh5Idw2sKM\" \n",
    "title=\"YouTube video player\" frameborder=\"0\" allow=\"accelerometer; autoplay; \n",
    "clipboard-write; encrypted-media; gyroscope; picture-in-picture\" allowfullscreen>\n",
    "</iframe>\n",
    "```\n",
    "\n",
    "## Zusammenfassung und Ausblick\n",
    "\n",
    "In diesem Abschnitt haben wir uns mit dem Datentyp Liste befasst, der zur\n",
    "Sammlung verschiedener Datenobjekte dient. Für die sequentielle Bearbeitung von\n",
    "Listenelementen ist die for-Schleife besonders geeignet. Es existieren\n",
    "zusätzliche Datentypen wie Dictionary, Tupel und Set, die sich ebenfalls zum\n",
    "Speichern von Datenobjekten eignen. Neben der for-Schleife gibt es eine\n",
    "alternative Schleifenstruktur, die while-Schleife, die Code wiederholt, solange\n",
    "eine bestimmte Bedingung erfüllt ist. Anstatt uns weiterhin auf solche Aspekte\n",
    "der Python-Programmierung zu konzentrieren, werden wir im nächsten Kapitel den\n",
    "Fokus auf die Implementierung eigener Funktionen legen und einen kurzen Ausflug\n",
    "in die objektorientierte Programmierung unternehmen."
   ]
  }
 ],
 "metadata": {
  "jupytext": {
   "formats": "ipynb,md:myst"
  },
  "kernelspec": {
   "display_name": "Python 3 (ipykernel)",
   "language": "python",
   "name": "python3"
  }
 },
 "nbformat": 4,
 "nbformat_minor": 5
}
